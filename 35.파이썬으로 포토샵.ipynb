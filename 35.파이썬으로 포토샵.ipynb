{
 "cells": [
  {
   "cell_type": "markdown",
   "metadata": {},
   "source": [
    "설치폴더 및 파일\n",
    "$ cd ~/aiffel/pil_image/assets\n",
    "$ pip install pillow ##패키지설치\n",
    "$ wget https://homepages.cae.wisc.edu/~ece533/images/peppers.png\n",
    "$ mv peppers.png ~/aiffel/pil_image/assets\n"
   ]
  },
  {
   "cell_type": "code",
   "execution_count": 1,
   "metadata": {},
   "outputs": [
    {
     "name": "stdout",
     "output_type": "stream",
     "text": [
      "<PIL.PngImagePlugin.PngImageFile image mode=RGB size=512x512 at 0x7F3353915B10>\n"
     ]
    }
   ],
   "source": [
    "from PIL import Image\n",
    "import os\n",
    "\n",
    "img_path = os.getenv('HOME')+'/aiffel/pil_image/assets/peppers.png'\n",
    "im = Image.open(img_path)\n",
    "print(im)"
   ]
  },
  {
   "cell_type": "code",
   "execution_count": 3,
   "metadata": {},
   "outputs": [
    {
     "name": "stdout",
     "output_type": "stream",
     "text": [
      "<PIL.PngImagePlugin.PngImageFile image mode=RGB size=512x512 at 0x7F3353915B10>\n",
      "PNG (512, 512) RGB\n"
     ]
    }
   ],
   "source": [
    "#이미지 가져오기\n",
    "print(im)\n",
    "print(im.format, im.size, im.mode)"
   ]
  },
  {
   "cell_type": "markdown",
   "metadata": {},
   "source": [
    "\n",
    "    PIL.PngImagePlugin.PngImageFile : PngImageFile 이라는 이름을 보면, 'png 이미지에 대한 이미지 데이터이다' 라는 것을 유추해볼 수 있습니다.\n",
    "    image mod=RGB : image mod는 이미지의 색 공간을 의미합니다. 이미지의 색 공간은 현재 RGB 라는 것을 알 수 있습니다.\n",
    "    size=512x512 : 위 이미지의 사이즈 입니다. 순서대로 가로 512 pixel, 세로 512 pixel 사이즈 입니다.\n",
    "    0x7FD288135B10 : 이미지가 저장되어 있는 메모리 위치를 나타냅니다.\n"
   ]
  },
  {
   "cell_type": "markdown",
   "metadata": {},
   "source": [
    "두 번째로 print(im.format, im.size, im.mode)의 결과로 나온 것을 보겠습니다. 위와 비슷합니다.\n",
    "\n",
    "    PNG: 이미지의 포맷\n",
    "    (512, 512) : 이미지의 사이즈\n",
    "    RGB : 이미지의 색 공간\n"
   ]
  },
  {
   "cell_type": "code",
   "execution_count": 4,
   "metadata": {},
   "outputs": [
    {
     "name": "stdout",
     "output_type": "stream",
     "text": [
      "이미지를 확인하세요.ᵕᴗᵕ\n"
     ]
    }
   ],
   "source": [
    "print(\"이미지를 확인하세요.ᵕᴗᵕ\")\n",
    "im.show()"
   ]
  },
  {
   "cell_type": "code",
   "execution_count": 6,
   "metadata": {},
   "outputs": [
    {
     "name": "stdout",
     "output_type": "stream",
     "text": [
      "(185, 102, 50)\n",
      "<ImagingCore object at 0x7f334c649d30>\n"
     ]
    }
   ],
   "source": [
    "#이미지의 픽셀값확인\n",
    "x_pixel = 1\n",
    "y_pixel = 2\n",
    "xy = (x_pixel,y_pixel)\n",
    "print(im.getpixel(xy))\n",
    "print(im.getdata())\n",
    "# print(list(im.getdata()))"
   ]
  },
  {
   "cell_type": "code",
   "execution_count": 14,
   "metadata": {},
   "outputs": [
    {
     "name": "stdout",
     "output_type": "stream",
     "text": [
      "⁎ᵕᴗᵕ⁎\n"
     ]
    }
   ],
   "source": [
    "#상자만들기\n",
    "box = (100, 100, 400, 400)\n",
    "print(\"⁎ᵕᴗᵕ⁎\")"
   ]
  },
  {
   "cell_type": "code",
   "execution_count": 15,
   "metadata": {},
   "outputs": [
    {
     "name": "stdout",
     "output_type": "stream",
     "text": [
      "이미지를 확인하세요.ᵕᴗᵕ\n"
     ]
    }
   ],
   "source": [
    "#상자에 맞게 이미지자르기\n",
    "print(\"이미지를 확인하세요.ᵕᴗᵕ\")\n",
    "region = im.crop(box)\n",
    "region.show()"
   ]
  },
  {
   "cell_type": "code",
   "execution_count": 16,
   "metadata": {},
   "outputs": [
    {
     "name": "stdout",
     "output_type": "stream",
     "text": [
      "이미지를 확인하세요.ᵕᴗᵕ\n"
     ]
    }
   ],
   "source": [
    "#이미지 회전\n",
    "print(\"이미지를 확인하세요.ᵕᴗᵕ\")\n",
    "region = region.transpose(Image.ROTATE_180)\n",
    "region.show()"
   ]
  },
  {
   "cell_type": "code",
   "execution_count": 19,
   "metadata": {},
   "outputs": [
    {
     "name": "stdout",
     "output_type": "stream",
     "text": [
      "이미지를 확인하세요.ᵕᴗᵕ\n"
     ]
    }
   ],
   "source": [
    "#이미지 합치기\n",
    "print(\"이미지를 확인하세요.ᵕᴗᵕ\")\n",
    "im.paste(region, box)\n",
    "im.show()"
   ]
  },
  {
   "cell_type": "code",
   "execution_count": 20,
   "metadata": {},
   "outputs": [
    {
     "ename": "ModuleNotFoundError",
     "evalue": "No module named 'matplotlib'",
     "output_type": "error",
     "traceback": [
      "\u001b[0;31m---------------------------------------------\u001b[0m",
      "\u001b[0;31mModuleNotFoundError\u001b[0mTraceback (most recent call last)",
      "\u001b[0;32m<ipython-input-20-e94fe7066c98>\u001b[0m in \u001b[0;36m<module>\u001b[0;34m\u001b[0m\n\u001b[1;32m      1\u001b[0m \u001b[0;32mfrom\u001b[0m \u001b[0mPIL\u001b[0m \u001b[0;32mimport\u001b[0m \u001b[0mImage\u001b[0m\u001b[0;34m\u001b[0m\u001b[0;34m\u001b[0m\u001b[0m\n\u001b[1;32m      2\u001b[0m \u001b[0;32mfrom\u001b[0m \u001b[0mPIL\u001b[0m \u001b[0;32mimport\u001b[0m \u001b[0mImageEnhance\u001b[0m\u001b[0;34m\u001b[0m\u001b[0;34m\u001b[0m\u001b[0m\n\u001b[0;32m----> 3\u001b[0;31m \u001b[0;32mimport\u001b[0m \u001b[0mmatplotlib\u001b[0m\u001b[0;34m.\u001b[0m\u001b[0mpyplot\u001b[0m \u001b[0;32mas\u001b[0m \u001b[0mplt\u001b[0m\u001b[0;34m\u001b[0m\u001b[0;34m\u001b[0m\u001b[0m\n\u001b[0m\u001b[1;32m      4\u001b[0m \u001b[0;32mimport\u001b[0m \u001b[0mos\u001b[0m\u001b[0;34m\u001b[0m\u001b[0;34m\u001b[0m\u001b[0m\n\u001b[1;32m      5\u001b[0m \u001b[0;34m\u001b[0m\u001b[0m\n",
      "\u001b[0;31mModuleNotFoundError\u001b[0m: No module named 'matplotlib'"
     ]
    }
   ],
   "source": [
    "#이미지 대비\n",
    "from PIL import Image\n",
    "from PIL import ImageEnhance\n",
    "import matplotlib.pyplot as plt\n",
    "import os\n",
    "\n",
    "img_path = os.getenv('HOME')+'/aiffel/pil_image/assets/peppers.png'\n",
    "im = Image.open(img_path)                # original 이미지\n",
    "\n",
    "enh = ImageEnhance.Contrast(im)    # enhanced contrast 이미지\n",
    "enh = enh.enhance(1.9)\n",
    "\n",
    "# 두 이미지를 그려 봅시다\n",
    "f=plt.figure()\n",
    "im1 = f.add_subplot(1,2,1)\n",
    "im1.imshow(im)\n",
    "im1.set_title(\"original\")\n",
    "\n",
    "im2 = f.add_subplot(1,2,2)\n",
    "im2.imshow(enh)\n",
    "im2.set_title(\"enhanced contrast\")"
   ]
  },
  {
   "cell_type": "code",
   "execution_count": 21,
   "metadata": {},
   "outputs": [
    {
     "ename": "NameError",
     "evalue": "name 'plt' is not defined",
     "output_type": "error",
     "traceback": [
      "\u001b[0;31m---------------------------------------------\u001b[0m",
      "\u001b[0;31mNameError\u001b[0m   Traceback (most recent call last)",
      "\u001b[0;32m<ipython-input-21-1b1ff80231a6>\u001b[0m in \u001b[0;36m<module>\u001b[0;34m\u001b[0m\n\u001b[1;32m      4\u001b[0m \u001b[0mfiltered_image\u001b[0m \u001b[0;34m=\u001b[0m \u001b[0mim\u001b[0m\u001b[0;34m.\u001b[0m\u001b[0mfilter\u001b[0m\u001b[0;34m(\u001b[0m\u001b[0mImageFilter\u001b[0m\u001b[0;34m.\u001b[0m\u001b[0mBLUR\u001b[0m\u001b[0;34m)\u001b[0m  \u001b[0;31m# BLUR filter 이미지\u001b[0m\u001b[0;34m\u001b[0m\u001b[0;34m\u001b[0m\u001b[0m\n\u001b[1;32m      5\u001b[0m \u001b[0;34m\u001b[0m\u001b[0m\n\u001b[0;32m----> 6\u001b[0;31m \u001b[0mf\u001b[0m\u001b[0;34m=\u001b[0m\u001b[0mplt\u001b[0m\u001b[0;34m.\u001b[0m\u001b[0mfigure\u001b[0m\u001b[0;34m(\u001b[0m\u001b[0;34m)\u001b[0m\u001b[0;34m\u001b[0m\u001b[0;34m\u001b[0m\u001b[0m\n\u001b[0m\u001b[1;32m      7\u001b[0m \u001b[0mim1\u001b[0m \u001b[0;34m=\u001b[0m \u001b[0mf\u001b[0m\u001b[0;34m.\u001b[0m\u001b[0madd_subplot\u001b[0m\u001b[0;34m(\u001b[0m\u001b[0;36m1\u001b[0m\u001b[0;34m,\u001b[0m\u001b[0;36m2\u001b[0m\u001b[0;34m,\u001b[0m\u001b[0;36m1\u001b[0m\u001b[0;34m)\u001b[0m\u001b[0;34m\u001b[0m\u001b[0;34m\u001b[0m\u001b[0m\n\u001b[1;32m      8\u001b[0m \u001b[0mim1\u001b[0m\u001b[0;34m.\u001b[0m\u001b[0mimshow\u001b[0m\u001b[0;34m(\u001b[0m\u001b[0mim\u001b[0m\u001b[0;34m)\u001b[0m\u001b[0;34m\u001b[0m\u001b[0;34m\u001b[0m\u001b[0m\n",
      "\u001b[0;31mNameError\u001b[0m: name 'plt' is not defined"
     ]
    }
   ],
   "source": [
    "#이미지 필터\n",
    "from PIL import ImageFilter\n",
    "\n",
    "filtered_image = im.filter(ImageFilter.BLUR)  # BLUR filter 이미지\n",
    "\n",
    "f=plt.figure()\n",
    "im1 = f.add_subplot(1,2,1)\n",
    "im1.imshow(im)\n",
    "im1.set_title(\"original\")\n",
    "\n",
    "im2 = f.add_subplot(1,2,2)\n",
    "im2.imshow(filtered_image)\n",
    "im2.set_title(\"BLUR filter\")"
   ]
  },
  {
   "cell_type": "code",
   "execution_count": 22,
   "metadata": {},
   "outputs": [
    {
     "name": "stdout",
     "output_type": "stream",
     "text": [
      "이미지를 확인하세요.ᵕᴗᵕ\n"
     ]
    }
   ],
   "source": [
    "#이미지 색 공간 변경\n",
    "print(\"이미지를 확인하세요.ᵕᴗᵕ\")\n",
    "greyscale_image = im.convert('L')\n",
    "greyscale_image.show()"
   ]
  },
  {
   "cell_type": "code",
   "execution_count": 23,
   "metadata": {},
   "outputs": [
    {
     "name": "stdout",
     "output_type": "stream",
     "text": [
      "JPEG (512, 512) RGB\n"
     ]
    }
   ],
   "source": [
    "#이미지 저장\n",
    "from PIL import Image\n",
    "import os\n",
    "\n",
    "original_img_path = os.getenv('HOME')+'/aiffel/pil_image/assets/peppers.png'\n",
    "new_img_path = os.getenv('HOME')+'/aiffel/pil_image/assets/modified_peppers.jpg'\n",
    "\n",
    "im = Image.open(original_img_path)\n",
    "im.save(new_img_path)\n",
    "\n",
    "new_im = Image.open(new_img_path)\n",
    "print(new_im.format, new_im.size, new_im.mode)"
   ]
  },
  {
   "cell_type": "code",
   "execution_count": 24,
   "metadata": {
    "scrolled": true
   },
   "outputs": [
    {
     "name": "stdout",
     "output_type": "stream",
     "text": [
      "PNG (512, 512) RGB\n"
     ]
    }
   ],
   "source": [
    "# PNG 포맷으로 저장합니다. \n",
    "another_img_path = os.getenv('HOME')+'/aiffel/pil_image/assets/modified_peppers.png'\n",
    "im.save(another_img_path)\n",
    "\n",
    "another_im = Image.open(another_img_path)\n",
    "print(another_im.format, another_im.size, another_im.mode)"
   ]
  },
  {
   "cell_type": "code",
   "execution_count": 25,
   "metadata": {},
   "outputs": [
    {
     "name": "stdout",
     "output_type": "stream",
     "text": [
      "⁎ᵕᴗᵕ⁎\n"
     ]
    }
   ],
   "source": [
    "##각각 모듈선택하기\n",
    "# from 패키지 import 모듈\n",
    "from PIL import Image\n",
    "from PIL import ImageFile\n",
    "from PIL import ImageMath, ImageEnhance\n",
    "print(\"⁎ᵕᴗᵕ⁎\")"
   ]
  },
  {
   "cell_type": "markdown",
   "metadata": {},
   "source": []
  },
  {
   "cell_type": "code",
   "execution_count": null,
   "metadata": {},
   "outputs": [],
   "source": []
  },
  {
   "cell_type": "code",
   "execution_count": null,
   "metadata": {},
   "outputs": [],
   "source": []
  },
  {
   "cell_type": "code",
   "execution_count": null,
   "metadata": {},
   "outputs": [],
   "source": []
  },
  {
   "cell_type": "code",
   "execution_count": null,
   "metadata": {},
   "outputs": [],
   "source": []
  },
  {
   "cell_type": "code",
   "execution_count": null,
   "metadata": {},
   "outputs": [],
   "source": []
  },
  {
   "cell_type": "code",
   "execution_count": null,
   "metadata": {},
   "outputs": [],
   "source": []
  },
  {
   "cell_type": "code",
   "execution_count": null,
   "metadata": {},
   "outputs": [],
   "source": []
  },
  {
   "cell_type": "code",
   "execution_count": null,
   "metadata": {},
   "outputs": [],
   "source": []
  },
  {
   "cell_type": "code",
   "execution_count": null,
   "metadata": {},
   "outputs": [],
   "source": []
  },
  {
   "cell_type": "code",
   "execution_count": null,
   "metadata": {},
   "outputs": [],
   "source": []
  },
  {
   "cell_type": "code",
   "execution_count": null,
   "metadata": {},
   "outputs": [],
   "source": []
  },
  {
   "cell_type": "code",
   "execution_count": null,
   "metadata": {},
   "outputs": [],
   "source": []
  },
  {
   "cell_type": "code",
   "execution_count": null,
   "metadata": {},
   "outputs": [],
   "source": []
  },
  {
   "cell_type": "code",
   "execution_count": null,
   "metadata": {},
   "outputs": [],
   "source": []
  },
  {
   "cell_type": "code",
   "execution_count": null,
   "metadata": {},
   "outputs": [],
   "source": []
  },
  {
   "cell_type": "code",
   "execution_count": null,
   "metadata": {},
   "outputs": [],
   "source": []
  },
  {
   "cell_type": "code",
   "execution_count": null,
   "metadata": {},
   "outputs": [],
   "source": []
  }
 ],
 "metadata": {
  "kernelspec": {
   "display_name": "aiffel",
   "language": "python",
   "name": "aiffel"
  },
  "language_info": {
   "codemirror_mode": {
    "name": "ipython",
    "version": 3
   },
   "file_extension": ".py",
   "mimetype": "text/x-python",
   "name": "python",
   "nbconvert_exporter": "python",
   "pygments_lexer": "ipython3",
   "version": "3.7.9"
  }
 },
 "nbformat": 4,
 "nbformat_minor": 4
}
