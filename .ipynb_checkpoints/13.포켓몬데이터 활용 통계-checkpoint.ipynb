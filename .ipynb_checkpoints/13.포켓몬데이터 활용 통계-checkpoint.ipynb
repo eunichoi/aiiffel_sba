{
 "cells": [
  {
   "cell_type": "markdown",
   "metadata": {},
   "source": [
    "# 리눅스에서 파일 다운받기"
   ]
  },
  {
   "cell_type": "markdown",
   "metadata": {},
   "source": [
    "#데이터준비하기\n",
    "$ mkdir -p ~/aiffel/pokemon_eda/data\n",
    "$ wget https://aiffelstaticprd.blob.core.windows.net/media/documents/Pokemon.csv\n",
    "$ unzip pokemon.zip\n",
    "$ ls\n",
    "$ mv Pokemon.csv ~/aiffel/pokemon_eda/data"
   ]
  },
  {
   "cell_type": "code",
   "execution_count": 21,
   "metadata": {},
   "outputs": [
    {
     "name": "stdout",
     "output_type": "stream",
     "text": [
      "슝=3\n"
     ]
    }
   ],
   "source": [
    "##라이브러리 가져오기\n",
    "import numpy as np   ##표데이터다루기 위해\n",
    "import pandas as pd  ##표데해터다루기위해\n",
    "import seaborn as sns   ##그래프 시각화\n",
    "import matplotlib.pyplot as plt   ##그래프시각화\n",
    "%matplotlib inline\n",
    "%config InlineBackend.figure_format = 'retina'\n",
    "print('슝=3')"
   ]
  },
  {
   "cell_type": "code",
   "execution_count": 22,
   "metadata": {},
   "outputs": [],
   "source": [
    "##os에서 불러오기\n",
    "import os\n",
    "csv_path = os.getenv(\"HOME\") +\"/aiffel/pokemon_eda/data/Pokemon.csv\"\n",
    "original_data = pd.read_csv(csv_path)"
   ]
  },
  {
   "cell_type": "code",
   "execution_count": 23,
   "metadata": {},
   "outputs": [
    {
     "name": "stdout",
     "output_type": "stream",
     "text": [
      "(800, 13)\n"
     ]
    },
    {
     "data": {
      "text/html": [
       "<div>\n",
       "<style scoped>\n",
       "    .dataframe tbody tr th:only-of-type {\n",
       "        vertical-align: middle;\n",
       "    }\n",
       "\n",
       "    .dataframe tbody tr th {\n",
       "        vertical-align: top;\n",
       "    }\n",
       "\n",
       "    .dataframe thead th {\n",
       "        text-align: right;\n",
       "    }\n",
       "</style>\n",
       "<table border=\"1\" class=\"dataframe\">\n",
       "  <thead>\n",
       "    <tr style=\"text-align: right;\">\n",
       "      <th></th>\n",
       "      <th>#</th>\n",
       "      <th>Name</th>\n",
       "      <th>Type 1</th>\n",
       "      <th>Type 2</th>\n",
       "      <th>Total</th>\n",
       "      <th>HP</th>\n",
       "      <th>Attack</th>\n",
       "      <th>Defense</th>\n",
       "      <th>Sp. Atk</th>\n",
       "      <th>Sp. Def</th>\n",
       "      <th>Speed</th>\n",
       "      <th>Generation</th>\n",
       "      <th>Legendary</th>\n",
       "    </tr>\n",
       "  </thead>\n",
       "  <tbody>\n",
       "    <tr>\n",
       "      <th>0</th>\n",
       "      <td>1</td>\n",
       "      <td>Bulbasaur</td>\n",
       "      <td>Grass</td>\n",
       "      <td>Poison</td>\n",
       "      <td>318</td>\n",
       "      <td>45</td>\n",
       "      <td>49</td>\n",
       "      <td>49</td>\n",
       "      <td>65</td>\n",
       "      <td>65</td>\n",
       "      <td>45</td>\n",
       "      <td>1</td>\n",
       "      <td>False</td>\n",
       "    </tr>\n",
       "    <tr>\n",
       "      <th>1</th>\n",
       "      <td>2</td>\n",
       "      <td>Ivysaur</td>\n",
       "      <td>Grass</td>\n",
       "      <td>Poison</td>\n",
       "      <td>405</td>\n",
       "      <td>60</td>\n",
       "      <td>62</td>\n",
       "      <td>63</td>\n",
       "      <td>80</td>\n",
       "      <td>80</td>\n",
       "      <td>60</td>\n",
       "      <td>1</td>\n",
       "      <td>False</td>\n",
       "    </tr>\n",
       "    <tr>\n",
       "      <th>2</th>\n",
       "      <td>3</td>\n",
       "      <td>Venusaur</td>\n",
       "      <td>Grass</td>\n",
       "      <td>Poison</td>\n",
       "      <td>525</td>\n",
       "      <td>80</td>\n",
       "      <td>82</td>\n",
       "      <td>83</td>\n",
       "      <td>100</td>\n",
       "      <td>100</td>\n",
       "      <td>80</td>\n",
       "      <td>1</td>\n",
       "      <td>False</td>\n",
       "    </tr>\n",
       "    <tr>\n",
       "      <th>3</th>\n",
       "      <td>3</td>\n",
       "      <td>VenusaurMega Venusaur</td>\n",
       "      <td>Grass</td>\n",
       "      <td>Poison</td>\n",
       "      <td>625</td>\n",
       "      <td>80</td>\n",
       "      <td>100</td>\n",
       "      <td>123</td>\n",
       "      <td>122</td>\n",
       "      <td>120</td>\n",
       "      <td>80</td>\n",
       "      <td>1</td>\n",
       "      <td>False</td>\n",
       "    </tr>\n",
       "    <tr>\n",
       "      <th>4</th>\n",
       "      <td>4</td>\n",
       "      <td>Charmander</td>\n",
       "      <td>Fire</td>\n",
       "      <td>NaN</td>\n",
       "      <td>309</td>\n",
       "      <td>39</td>\n",
       "      <td>52</td>\n",
       "      <td>43</td>\n",
       "      <td>60</td>\n",
       "      <td>50</td>\n",
       "      <td>65</td>\n",
       "      <td>1</td>\n",
       "      <td>False</td>\n",
       "    </tr>\n",
       "  </tbody>\n",
       "</table>\n",
       "</div>"
      ],
      "text/plain": [
       "   #                   Name Type 1  Type 2  Total  HP  Attack  Defense  \\\n",
       "0  1              Bulbasaur  Grass  Poison    318  45      49       49   \n",
       "1  2                Ivysaur  Grass  Poison    405  60      62       63   \n",
       "2  3               Venusaur  Grass  Poison    525  80      82       83   \n",
       "3  3  VenusaurMega Venusaur  Grass  Poison    625  80     100      123   \n",
       "4  4             Charmander   Fire     NaN    309  39      52       43   \n",
       "\n",
       "   Sp. Atk  Sp. Def  Speed  Generation  Legendary  \n",
       "0       65       65     45           1      False  \n",
       "1       80       80     60           1      False  \n",
       "2      100      100     80           1      False  \n",
       "3      122      120     80           1      False  \n",
       "4       60       50     65           1      False  "
      ]
     },
     "execution_count": 23,
     "metadata": {},
     "output_type": "execute_result"
    }
   ],
   "source": [
    "##표로 시각화\n",
    "pokemon = original_data.copy()\n",
    "print(pokemon.shape)\n",
    "pokemon.head()"
   ]
  },
  {
   "cell_type": "code",
   "execution_count": 24,
   "metadata": {},
   "outputs": [
    {
     "name": "stdout",
     "output_type": "stream",
     "text": [
      "(65, 13)\n"
     ]
    },
    {
     "data": {
      "text/html": [
       "<div>\n",
       "<style scoped>\n",
       "    .dataframe tbody tr th:only-of-type {\n",
       "        vertical-align: middle;\n",
       "    }\n",
       "\n",
       "    .dataframe tbody tr th {\n",
       "        vertical-align: top;\n",
       "    }\n",
       "\n",
       "    .dataframe thead th {\n",
       "        text-align: right;\n",
       "    }\n",
       "</style>\n",
       "<table border=\"1\" class=\"dataframe\">\n",
       "  <thead>\n",
       "    <tr style=\"text-align: right;\">\n",
       "      <th></th>\n",
       "      <th>#</th>\n",
       "      <th>Name</th>\n",
       "      <th>Type 1</th>\n",
       "      <th>Type 2</th>\n",
       "      <th>Total</th>\n",
       "      <th>HP</th>\n",
       "      <th>Attack</th>\n",
       "      <th>Defense</th>\n",
       "      <th>Sp. Atk</th>\n",
       "      <th>Sp. Def</th>\n",
       "      <th>Speed</th>\n",
       "      <th>Generation</th>\n",
       "      <th>Legendary</th>\n",
       "    </tr>\n",
       "  </thead>\n",
       "  <tbody>\n",
       "    <tr>\n",
       "      <th>0</th>\n",
       "      <td>144</td>\n",
       "      <td>Articuno</td>\n",
       "      <td>Ice</td>\n",
       "      <td>Flying</td>\n",
       "      <td>580</td>\n",
       "      <td>90</td>\n",
       "      <td>85</td>\n",
       "      <td>100</td>\n",
       "      <td>95</td>\n",
       "      <td>125</td>\n",
       "      <td>85</td>\n",
       "      <td>1</td>\n",
       "      <td>True</td>\n",
       "    </tr>\n",
       "    <tr>\n",
       "      <th>1</th>\n",
       "      <td>145</td>\n",
       "      <td>Zapdos</td>\n",
       "      <td>Electric</td>\n",
       "      <td>Flying</td>\n",
       "      <td>580</td>\n",
       "      <td>90</td>\n",
       "      <td>90</td>\n",
       "      <td>85</td>\n",
       "      <td>125</td>\n",
       "      <td>90</td>\n",
       "      <td>100</td>\n",
       "      <td>1</td>\n",
       "      <td>True</td>\n",
       "    </tr>\n",
       "    <tr>\n",
       "      <th>2</th>\n",
       "      <td>146</td>\n",
       "      <td>Moltres</td>\n",
       "      <td>Fire</td>\n",
       "      <td>Flying</td>\n",
       "      <td>580</td>\n",
       "      <td>90</td>\n",
       "      <td>100</td>\n",
       "      <td>90</td>\n",
       "      <td>125</td>\n",
       "      <td>85</td>\n",
       "      <td>90</td>\n",
       "      <td>1</td>\n",
       "      <td>True</td>\n",
       "    </tr>\n",
       "    <tr>\n",
       "      <th>3</th>\n",
       "      <td>150</td>\n",
       "      <td>Mewtwo</td>\n",
       "      <td>Psychic</td>\n",
       "      <td>NaN</td>\n",
       "      <td>680</td>\n",
       "      <td>106</td>\n",
       "      <td>110</td>\n",
       "      <td>90</td>\n",
       "      <td>154</td>\n",
       "      <td>90</td>\n",
       "      <td>130</td>\n",
       "      <td>1</td>\n",
       "      <td>True</td>\n",
       "    </tr>\n",
       "    <tr>\n",
       "      <th>4</th>\n",
       "      <td>150</td>\n",
       "      <td>MewtwoMega Mewtwo X</td>\n",
       "      <td>Psychic</td>\n",
       "      <td>Fighting</td>\n",
       "      <td>780</td>\n",
       "      <td>106</td>\n",
       "      <td>190</td>\n",
       "      <td>100</td>\n",
       "      <td>154</td>\n",
       "      <td>100</td>\n",
       "      <td>130</td>\n",
       "      <td>1</td>\n",
       "      <td>True</td>\n",
       "    </tr>\n",
       "  </tbody>\n",
       "</table>\n",
       "</div>"
      ],
      "text/plain": [
       "     #                 Name    Type 1    Type 2  Total   HP  Attack  Defense  \\\n",
       "0  144             Articuno       Ice    Flying    580   90      85      100   \n",
       "1  145               Zapdos  Electric    Flying    580   90      90       85   \n",
       "2  146              Moltres      Fire    Flying    580   90     100       90   \n",
       "3  150               Mewtwo   Psychic       NaN    680  106     110       90   \n",
       "4  150  MewtwoMega Mewtwo X   Psychic  Fighting    780  106     190      100   \n",
       "\n",
       "   Sp. Atk  Sp. Def  Speed  Generation  Legendary  \n",
       "0       95      125     85           1       True  \n",
       "1      125       90    100           1       True  \n",
       "2      125       85     90           1       True  \n",
       "3      154       90    130           1       True  \n",
       "4      154      100    130           1       True  "
      ]
     },
     "execution_count": 24,
     "metadata": {},
     "output_type": "execute_result"
    }
   ],
   "source": [
    "# 전설의 포켓몬 데이터셋\n",
    "legendary = pokemon[pokemon[\"Legendary\"] == True].reset_index(drop=True)\n",
    "print(legendary.shape)\n",
    "legendary.head()"
   ]
  },
  {
   "cell_type": "code",
   "execution_count": 25,
   "metadata": {},
   "outputs": [
    {
     "name": "stdout",
     "output_type": "stream",
     "text": [
      "(735, 13)\n"
     ]
    },
    {
     "data": {
      "text/html": [
       "<div>\n",
       "<style scoped>\n",
       "    .dataframe tbody tr th:only-of-type {\n",
       "        vertical-align: middle;\n",
       "    }\n",
       "\n",
       "    .dataframe tbody tr th {\n",
       "        vertical-align: top;\n",
       "    }\n",
       "\n",
       "    .dataframe thead th {\n",
       "        text-align: right;\n",
       "    }\n",
       "</style>\n",
       "<table border=\"1\" class=\"dataframe\">\n",
       "  <thead>\n",
       "    <tr style=\"text-align: right;\">\n",
       "      <th></th>\n",
       "      <th>#</th>\n",
       "      <th>Name</th>\n",
       "      <th>Type 1</th>\n",
       "      <th>Type 2</th>\n",
       "      <th>Total</th>\n",
       "      <th>HP</th>\n",
       "      <th>Attack</th>\n",
       "      <th>Defense</th>\n",
       "      <th>Sp. Atk</th>\n",
       "      <th>Sp. Def</th>\n",
       "      <th>Speed</th>\n",
       "      <th>Generation</th>\n",
       "      <th>Legendary</th>\n",
       "    </tr>\n",
       "  </thead>\n",
       "  <tbody>\n",
       "    <tr>\n",
       "      <th>0</th>\n",
       "      <td>1</td>\n",
       "      <td>Bulbasaur</td>\n",
       "      <td>Grass</td>\n",
       "      <td>Poison</td>\n",
       "      <td>318</td>\n",
       "      <td>45</td>\n",
       "      <td>49</td>\n",
       "      <td>49</td>\n",
       "      <td>65</td>\n",
       "      <td>65</td>\n",
       "      <td>45</td>\n",
       "      <td>1</td>\n",
       "      <td>False</td>\n",
       "    </tr>\n",
       "    <tr>\n",
       "      <th>1</th>\n",
       "      <td>2</td>\n",
       "      <td>Ivysaur</td>\n",
       "      <td>Grass</td>\n",
       "      <td>Poison</td>\n",
       "      <td>405</td>\n",
       "      <td>60</td>\n",
       "      <td>62</td>\n",
       "      <td>63</td>\n",
       "      <td>80</td>\n",
       "      <td>80</td>\n",
       "      <td>60</td>\n",
       "      <td>1</td>\n",
       "      <td>False</td>\n",
       "    </tr>\n",
       "    <tr>\n",
       "      <th>2</th>\n",
       "      <td>3</td>\n",
       "      <td>Venusaur</td>\n",
       "      <td>Grass</td>\n",
       "      <td>Poison</td>\n",
       "      <td>525</td>\n",
       "      <td>80</td>\n",
       "      <td>82</td>\n",
       "      <td>83</td>\n",
       "      <td>100</td>\n",
       "      <td>100</td>\n",
       "      <td>80</td>\n",
       "      <td>1</td>\n",
       "      <td>False</td>\n",
       "    </tr>\n",
       "    <tr>\n",
       "      <th>3</th>\n",
       "      <td>3</td>\n",
       "      <td>VenusaurMega Venusaur</td>\n",
       "      <td>Grass</td>\n",
       "      <td>Poison</td>\n",
       "      <td>625</td>\n",
       "      <td>80</td>\n",
       "      <td>100</td>\n",
       "      <td>123</td>\n",
       "      <td>122</td>\n",
       "      <td>120</td>\n",
       "      <td>80</td>\n",
       "      <td>1</td>\n",
       "      <td>False</td>\n",
       "    </tr>\n",
       "    <tr>\n",
       "      <th>4</th>\n",
       "      <td>4</td>\n",
       "      <td>Charmander</td>\n",
       "      <td>Fire</td>\n",
       "      <td>NaN</td>\n",
       "      <td>309</td>\n",
       "      <td>39</td>\n",
       "      <td>52</td>\n",
       "      <td>43</td>\n",
       "      <td>60</td>\n",
       "      <td>50</td>\n",
       "      <td>65</td>\n",
       "      <td>1</td>\n",
       "      <td>False</td>\n",
       "    </tr>\n",
       "  </tbody>\n",
       "</table>\n",
       "</div>"
      ],
      "text/plain": [
       "   #                   Name Type 1  Type 2  Total  HP  Attack  Defense  \\\n",
       "0  1              Bulbasaur  Grass  Poison    318  45      49       49   \n",
       "1  2                Ivysaur  Grass  Poison    405  60      62       63   \n",
       "2  3               Venusaur  Grass  Poison    525  80      82       83   \n",
       "3  3  VenusaurMega Venusaur  Grass  Poison    625  80     100      123   \n",
       "4  4             Charmander   Fire     NaN    309  39      52       43   \n",
       "\n",
       "   Sp. Atk  Sp. Def  Speed  Generation  Legendary  \n",
       "0       65       65     45           1      False  \n",
       "1       80       80     60           1      False  \n",
       "2      100      100     80           1      False  \n",
       "3      122      120     80           1      False  \n",
       "4       60       50     65           1      False  "
      ]
     },
     "execution_count": 25,
     "metadata": {},
     "output_type": "execute_result"
    }
   ],
   "source": [
    "# 일반 포켓몬 데이터셋\n",
    "ordinary = pokemon[pokemon[\"Legendary\"] == False].reset_index(drop=True)\n",
    "print(ordinary.shape)\n",
    "ordinary.head()"
   ]
  },
  {
   "cell_type": "code",
   "execution_count": 26,
   "metadata": {
    "scrolled": true
   },
   "outputs": [
    {
     "data": {
      "text/plain": [
       "#               0\n",
       "Name            0\n",
       "Type 1          0\n",
       "Type 2        386\n",
       "Total           0\n",
       "HP              0\n",
       "Attack          0\n",
       "Defense         0\n",
       "Sp. Atk         0\n",
       "Sp. Def         0\n",
       "Speed           0\n",
       "Generation      0\n",
       "Legendary       0\n",
       "dtype: int64"
      ]
     },
     "execution_count": 26,
     "metadata": {},
     "output_type": "execute_result"
    }
   ],
   "source": [
    "##결측치 확인  = type 2에만 결측치(데이터 없음)\n",
    "pokemon.isnull().sum()"
   ]
  },
  {
   "cell_type": "code",
   "execution_count": 27,
   "metadata": {},
   "outputs": [
    {
     "name": "stdout",
     "output_type": "stream",
     "text": [
      "13\n"
     ]
    },
    {
     "data": {
      "text/plain": [
       "Index(['#', 'Name', 'Type 1', 'Type 2', 'Total', 'HP', 'Attack', 'Defense',\n",
       "       'Sp. Atk', 'Sp. Def', 'Speed', 'Generation', 'Legendary'],\n",
       "      dtype='object')"
      ]
     },
     "execution_count": 27,
     "metadata": {},
     "output_type": "execute_result"
    }
   ],
   "source": [
    "#데이터셋의 전체컬럼\n",
    "print(len(pokemon.columns)) #칼럼의 갯수\n",
    "pokemon.columns #칼럼의 이름들"
   ]
  },
  {
   "cell_type": "code",
   "execution_count": 28,
   "metadata": {},
   "outputs": [
    {
     "name": "stdout",
     "output_type": "stream",
     "text": [
      "{1, 2, 3, 4, 5, 6, 7, 8, 9, 10, 11, 12, 13, 14, 15, 16, 17, 18, 19, 20, 21, 22, 23, 24, 25, 26, 27, 28, 29, 30, 31, 32, 33, 34, 35, 36, 37, 38, 39, 40, 41, 42, 43, 44, 45, 46, 47, 48, 49, 50, 51, 52, 53, 54, 55, 56, 57, 58, 59, 60, 61, 62, 63, 64, 65, 66, 67, 68, 69, 70, 71, 72, 73, 74, 75, 76, 77, 78, 79, 80, 81, 82, 83, 84, 85, 86, 87, 88, 89, 90, 91, 92, 93, 94, 95, 96, 97, 98, 99, 100, 101, 102, 103, 104, 105, 106, 107, 108, 109, 110, 111, 112, 113, 114, 115, 116, 117, 118, 119, 120, 121, 122, 123, 124, 125, 126, 127, 128, 129, 130, 131, 132, 133, 134, 135, 136, 137, 138, 139, 140, 141, 142, 143, 144, 145, 146, 147, 148, 149, 150, 151, 152, 153, 154, 155, 156, 157, 158, 159, 160, 161, 162, 163, 164, 165, 166, 167, 168, 169, 170, 171, 172, 173, 174, 175, 176, 177, 178, 179, 180, 181, 182, 183, 184, 185, 186, 187, 188, 189, 190, 191, 192, 193, 194, 195, 196, 197, 198, 199, 200, 201, 202, 203, 204, 205, 206, 207, 208, 209, 210, 211, 212, 213, 214, 215, 216, 217, 218, 219, 220, 221, 222, 223, 224, 225, 226, 227, 228, 229, 230, 231, 232, 233, 234, 235, 236, 237, 238, 239, 240, 241, 242, 243, 244, 245, 246, 247, 248, 249, 250, 251, 252, 253, 254, 255, 256, 257, 258, 259, 260, 261, 262, 263, 264, 265, 266, 267, 268, 269, 270, 271, 272, 273, 274, 275, 276, 277, 278, 279, 280, 281, 282, 283, 284, 285, 286, 287, 288, 289, 290, 291, 292, 293, 294, 295, 296, 297, 298, 299, 300, 301, 302, 303, 304, 305, 306, 307, 308, 309, 310, 311, 312, 313, 314, 315, 316, 317, 318, 319, 320, 321, 322, 323, 324, 325, 326, 327, 328, 329, 330, 331, 332, 333, 334, 335, 336, 337, 338, 339, 340, 341, 342, 343, 344, 345, 346, 347, 348, 349, 350, 351, 352, 353, 354, 355, 356, 357, 358, 359, 360, 361, 362, 363, 364, 365, 366, 367, 368, 369, 370, 371, 372, 373, 374, 375, 376, 377, 378, 379, 380, 381, 382, 383, 384, 385, 386, 387, 388, 389, 390, 391, 392, 393, 394, 395, 396, 397, 398, 399, 400, 401, 402, 403, 404, 405, 406, 407, 408, 409, 410, 411, 412, 413, 414, 415, 416, 417, 418, 419, 420, 421, 422, 423, 424, 425, 426, 427, 428, 429, 430, 431, 432, 433, 434, 435, 436, 437, 438, 439, 440, 441, 442, 443, 444, 445, 446, 447, 448, 449, 450, 451, 452, 453, 454, 455, 456, 457, 458, 459, 460, 461, 462, 463, 464, 465, 466, 467, 468, 469, 470, 471, 472, 473, 474, 475, 476, 477, 478, 479, 480, 481, 482, 483, 484, 485, 486, 487, 488, 489, 490, 491, 492, 493, 494, 495, 496, 497, 498, 499, 500, 501, 502, 503, 504, 505, 506, 507, 508, 509, 510, 511, 512, 513, 514, 515, 516, 517, 518, 519, 520, 521, 522, 523, 524, 525, 526, 527, 528, 529, 530, 531, 532, 533, 534, 535, 536, 537, 538, 539, 540, 541, 542, 543, 544, 545, 546, 547, 548, 549, 550, 551, 552, 553, 554, 555, 556, 557, 558, 559, 560, 561, 562, 563, 564, 565, 566, 567, 568, 569, 570, 571, 572, 573, 574, 575, 576, 577, 578, 579, 580, 581, 582, 583, 584, 585, 586, 587, 588, 589, 590, 591, 592, 593, 594, 595, 596, 597, 598, 599, 600, 601, 602, 603, 604, 605, 606, 607, 608, 609, 610, 611, 612, 613, 614, 615, 616, 617, 618, 619, 620, 621, 622, 623, 624, 625, 626, 627, 628, 629, 630, 631, 632, 633, 634, 635, 636, 637, 638, 639, 640, 641, 642, 643, 644, 645, 646, 647, 648, 649, 650, 651, 652, 653, 654, 655, 656, 657, 658, 659, 660, 661, 662, 663, 664, 665, 666, 667, 668, 669, 670, 671, 672, 673, 674, 675, 676, 677, 678, 679, 680, 681, 682, 683, 684, 685, 686, 687, 688, 689, 690, 691, 692, 693, 694, 695, 696, 697, 698, 699, 700, 701, 702, 703, 704, 705, 706, 707, 708, 709, 710, 711, 712, 713, 714, 715, 716, 717, 718, 719, 720, 721}\n"
     ]
    }
   ],
   "source": [
    "# #칼럼에 해당하는 데이터\n",
    "# 컬럼을 집합으로 만든 자료 // 전체데이터보다 작은 이유는\n",
    "# 중복데이터때문 = unique하지않다 = index로 쓸 수 없다\n",
    "len(set(pokemon[\"#\"]))\n",
    "print(set(pokemon[\"#\"]))"
   ]
  },
  {
   "cell_type": "code",
   "execution_count": 29,
   "metadata": {},
   "outputs": [
    {
     "data": {
      "text/html": [
       "<div>\n",
       "<style scoped>\n",
       "    .dataframe tbody tr th:only-of-type {\n",
       "        vertical-align: middle;\n",
       "    }\n",
       "\n",
       "    .dataframe tbody tr th {\n",
       "        vertical-align: top;\n",
       "    }\n",
       "\n",
       "    .dataframe thead th {\n",
       "        text-align: right;\n",
       "    }\n",
       "</style>\n",
       "<table border=\"1\" class=\"dataframe\">\n",
       "  <thead>\n",
       "    <tr style=\"text-align: right;\">\n",
       "      <th></th>\n",
       "      <th>#</th>\n",
       "      <th>Name</th>\n",
       "      <th>Type 1</th>\n",
       "      <th>Type 2</th>\n",
       "      <th>Total</th>\n",
       "      <th>HP</th>\n",
       "      <th>Attack</th>\n",
       "      <th>Defense</th>\n",
       "      <th>Sp. Atk</th>\n",
       "      <th>Sp. Def</th>\n",
       "      <th>Speed</th>\n",
       "      <th>Generation</th>\n",
       "      <th>Legendary</th>\n",
       "    </tr>\n",
       "  </thead>\n",
       "  <tbody>\n",
       "    <tr>\n",
       "      <th>6</th>\n",
       "      <td>6</td>\n",
       "      <td>Charizard</td>\n",
       "      <td>Fire</td>\n",
       "      <td>Flying</td>\n",
       "      <td>534</td>\n",
       "      <td>78</td>\n",
       "      <td>84</td>\n",
       "      <td>78</td>\n",
       "      <td>109</td>\n",
       "      <td>85</td>\n",
       "      <td>100</td>\n",
       "      <td>1</td>\n",
       "      <td>False</td>\n",
       "    </tr>\n",
       "    <tr>\n",
       "      <th>7</th>\n",
       "      <td>6</td>\n",
       "      <td>CharizardMega Charizard X</td>\n",
       "      <td>Fire</td>\n",
       "      <td>Dragon</td>\n",
       "      <td>634</td>\n",
       "      <td>78</td>\n",
       "      <td>130</td>\n",
       "      <td>111</td>\n",
       "      <td>130</td>\n",
       "      <td>85</td>\n",
       "      <td>100</td>\n",
       "      <td>1</td>\n",
       "      <td>False</td>\n",
       "    </tr>\n",
       "    <tr>\n",
       "      <th>8</th>\n",
       "      <td>6</td>\n",
       "      <td>CharizardMega Charizard Y</td>\n",
       "      <td>Fire</td>\n",
       "      <td>Flying</td>\n",
       "      <td>634</td>\n",
       "      <td>78</td>\n",
       "      <td>104</td>\n",
       "      <td>78</td>\n",
       "      <td>159</td>\n",
       "      <td>115</td>\n",
       "      <td>100</td>\n",
       "      <td>1</td>\n",
       "      <td>False</td>\n",
       "    </tr>\n",
       "  </tbody>\n",
       "</table>\n",
       "</div>"
      ],
      "text/plain": [
       "   #                       Name Type 1  Type 2  Total  HP  Attack  Defense  \\\n",
       "6  6                  Charizard   Fire  Flying    534  78      84       78   \n",
       "7  6  CharizardMega Charizard X   Fire  Dragon    634  78     130      111   \n",
       "8  6  CharizardMega Charizard Y   Fire  Flying    634  78     104       78   \n",
       "\n",
       "   Sp. Atk  Sp. Def  Speed  Generation  Legendary  \n",
       "6      109       85    100           1      False  \n",
       "7      130       85    100           1      False  \n",
       "8      159      115    100           1      False  "
      ]
     },
     "execution_count": 29,
     "metadata": {},
     "output_type": "execute_result"
    }
   ],
   "source": [
    "# #칼럼이 6인 값을 출력\n",
    "pokemon[pokemon[\"#\"] == 6]"
   ]
  },
  {
   "cell_type": "code",
   "execution_count": 30,
   "metadata": {},
   "outputs": [
    {
     "name": "stdout",
     "output_type": "stream",
     "text": [
      "{'Carracosta', 'Hypno', 'RotomFrost Rotom', 'Nidorino', 'Forretress', 'Arceus', 'AegislashBlade Forme', 'AerodactylMega Aerodactyl', 'Paras', 'Charizard', 'Corsola', 'Klink', 'Hitmonlee', 'GlalieMega Glalie', 'Dratini', 'GourgeistSuper Size', 'Combee', 'RotomHeat Rotom', 'Zapdos', 'Pineco', 'Barboach', 'BlazikenMega Blaziken', 'Torchic', 'Dugtrio', 'Infernape', 'Golett', 'Fletchinder', 'Gastly', 'Mienfoo', 'Vullaby', \"Farfetch'd\", 'Braixen', 'Dragonair', 'Dewgong', 'Shroomish', 'Clefairy', 'Nuzleaf', 'MedichamMega Medicham', 'Chikorita', 'Azurill', 'Herdier', 'Frillish', 'Shellder', 'LatiosMega Latios', 'Exploud', 'Solosis', 'Gabite', 'Tepig', 'Elgyem', 'GourgeistAverage Size', 'MewtwoMega Mewtwo Y', 'Chingling', 'Blitzle', 'Crobat', 'Pansear', 'Galvantula', 'Delcatty', 'PumpkabooLarge Size', 'Trubbish', 'Luvdisc', 'SableyeMega Sableye', 'Crawdaunt', 'GengarMega Gengar', 'Gible', 'Scraggy', 'Tympole', 'Ducklett', 'Butterfree', 'Skrelp', 'Poochyena', 'Ho-oh', 'Victreebel', 'Beartic', 'Hydreigon', 'CameruptMega Camerupt', 'Barbaracle', 'Fraxure', 'Venonat', 'Cherubi', 'Persian', 'Sableye', 'Relicanth', 'Croagunk', 'Togetic', 'DarmanitanZen Mode', 'Venomoth', 'Huntail', 'Lanturn', 'Lilligant', 'ThundurusTherian Forme', 'Chespin', 'Doduo', 'Sandile', 'Geodude', 'Kyogre', 'Slowbro', 'Patrat', 'Petilil', 'Talonflame', 'Weedle', 'Leavanny', 'Electrode', 'Cresselia', 'Rhyhorn', 'Empoleon', 'ShayminSky Forme', 'Timburr', 'Golurk', 'Dunsparce', 'MeowsticFemale', 'Drifblim', 'LatiasMega Latias', 'Pidgey', 'AggronMega Aggron', 'Drilbur', 'Graveler', 'Gulpin', 'Bellsprout', 'Masquerain', 'Honchkrow', 'Girafarig', 'Primeape', 'Staraptor', 'Bulbasaur', 'Swoobat', 'Kyurem', 'Uxie', 'Purrloin', 'Illumise', 'Voltorb', 'LandorusTherian Forme', 'Reuniclus', 'Steelix', 'Roserade', 'Shelmet', 'Jellicent', 'Lampent', 'Golbat', 'Crustle', 'Marshtomp', 'Tranquill', 'Roggenrola', 'Charmeleon', 'SwampertMega Swampert', 'Arbok', 'Wynaut', 'Lickitung', 'Bonsly', 'Yamask', 'Togekiss', 'Taillow', 'BeedrillMega Beedrill', 'Hawlucha', 'Spritzee', 'Blaziken', 'Gloom', 'Kabuto', 'Phione', 'PumpkabooAverage Size', 'GyaradosMega Gyarados', 'Cradily', 'Duskull', 'Mantine', 'Whirlipede', 'Baltoy', 'Slugma', 'Wartortle', 'Prinplup', 'Pikachu', 'Ivysaur', 'Lunatone', 'Shuppet', 'Zekrom', 'Klefki', 'Seedot', 'Plusle', 'Ponyta', 'Vanilluxe', 'Smeargle', 'Gligar', 'Absol', 'Amoonguss', 'Beheeyem', 'Scatterbug', 'Flygon', 'Ludicolo', 'GroudonPrimal Groudon', 'DeoxysNormal Forme', 'Darkrai', 'ShayminLand Forme', 'TyranitarMega Tyranitar', 'RotomFan Rotom', 'Gigalith', 'GourgeistLarge Size', 'Metang', 'Sharpedo', 'Quilladin', 'Flaaffy', 'Abra', 'Raikou', 'Grovyle', 'Piplup', 'Emboar', 'Klinklang', 'AbsolMega Absol', 'Jolteon', 'Toxicroak', 'Seismitoad', 'Kingdra', 'Haxorus', 'Zweilous', 'Gothitelle', 'Pancham', 'Zorua', 'Typhlosion', 'Lumineon', 'SharpedoMega Sharpedo', 'Nidoking', 'Unown', 'Spheal', 'Cryogonal', 'Kingler', 'Binacle', 'MeowsticMale', 'Seviper', 'Chimchar', 'TornadusIncarnate Forme', 'Tentacool', 'Hoppip', 'Luxray', 'Sliggoo', 'Swalot', 'Phantump', 'Swanna', 'Kricketot', 'Drapion', 'Poliwhirl', 'Terrakion', 'Hariyama', 'Azelf', 'Trapinch', 'Seadra', 'Pinsir', 'Furfrou', 'Xatu', 'Granbull', 'Serperior', 'Poliwag', 'Gothita', 'Doublade', 'Magby', 'Sceptile', 'Porygon-Z', 'Jumpluff', 'Carvanha', 'Cinccino', 'Omastar', 'Boldore', 'Rayquaza', 'Minun', 'Froakie', 'Bidoof', 'Corphish', 'Celebi', 'Tyranitar', 'Lombre', 'Feebas', 'Dodrio', 'ThundurusIncarnate Forme', 'Cobalion', 'Cacnea', 'Scrafty', 'Gliscor', 'Jynx', 'Cherrim', 'Spoink', 'Shedinja', 'Nosepass', 'Escavalier', 'Musharna', 'Genesect', 'Spinarak', 'Igglybuff', 'Bastiodon', 'SlowbroMega Slowbro', 'Qwilfish', 'Dusclops', 'Malamar', 'Aurorus', 'Vulpix', 'Regice', 'Snorunt', 'Mew', 'Gothorita', 'Slurpuff', 'Houndour', 'Victini', 'PinsirMega Pinsir', 'Mawile', 'Buizel', 'Spiritomb', 'Tyrogue', 'Loudred', 'Archen', 'Umbreon', 'Surskit', 'Marowak', 'Fearow', 'Swinub', 'Lucario', 'Ferrothorn', 'Cleffa', 'Slakoth', 'Clawitzer', 'Donphan', 'Torterra', 'Drifloon', 'Snorlax', 'WormadamPlant Cloak', 'Basculin', 'Trevenant', 'Simisear', 'Sealeo', 'Gengar', 'Cranidos', 'Sewaddle', 'Sylveon', 'Haunter', 'Manaphy', 'Jirachi', 'Espeon', 'Liepard', 'Houndoom', 'Lopunny', 'Woobat', 'Chansey', 'Ampharos', 'Slowking', 'Zigzagoon', 'Meganium', 'Hoothoot', 'Sandslash', 'Hippowdon', 'Ekans', 'Clauncher', 'GarchompMega Garchomp', 'Braviary', 'Stantler', 'Pachirisu', 'AbomasnowMega Abomasnow', 'Volbeat', 'Minccino', 'Ferroseed', 'DiancieMega Diancie', 'HeracrossMega Heracross', 'Rampardos', 'TornadusTherian Forme', 'Weavile', 'Blissey', 'Vanillish', 'Sunflora', 'Zubat', 'Sentret', 'AlakazamMega Alakazam', 'Sigilyph', 'Cofagrigus', 'Mamoswine', 'Krokorok', 'AmpharosMega Ampharos', 'Cascoon', 'Froslass', 'Duosion', 'Magmortar', 'Mienshao', 'Altaria', 'Remoraid', 'Mandibuzz', 'Yveltal', 'AltariaMega Altaria', 'Latios', 'Tentacruel', 'Swablu', 'Servine', 'Sawsbuck', 'Krabby', 'Kangaskhan', 'Moltres', 'Arcanine', 'Ditto', 'Latias', 'KyuremBlack Kyurem', 'Litleo', 'Spinda', 'Greninja', 'Exeggcute', 'Spearow', 'VenusaurMega Venusaur', 'Makuhita', 'Feraligatr', 'Pichu', 'Flabébé', 'Audino', 'Rufflet', 'LucarioMega Lucario', 'Aipom', 'Gardevoir', 'Goodra', 'Palpitoad', 'KeldeoOrdinary Forme', 'Mewtwo', 'Glalie', 'Mudkip', 'ManectricMega Manectric', 'Phanpy', 'Cyndaquil', 'Azumarill', 'Glaceon', 'Tropius', 'Maractus', 'Grimer', 'Breloom', 'Deerling', 'Swellow', 'Foongus', 'Murkrow', 'Politoed', 'Zygarde50% Forme', 'Dragalge', 'Sandshrew', 'Accelgor', 'Muk', 'Chinchou', 'Groudon', 'Torkoal', 'MeloettaPirouette Forme', 'Wooper', 'Furret', 'Wurmple', 'Claydol', 'Pignite', 'Deino', 'Seaking', 'Noivern', 'Inkay', 'Octillery', 'Raichu', 'Mime Jr.', 'Rotom', 'Gallade', 'Swirlix', 'Cloyster', 'Bouffalant', 'Panpour', 'Metagross', 'GiratinaOrigin Forme', 'Snubbull', 'Bellossom', 'Carnivine', 'Caterpie', 'Watchog', 'Turtwig', 'Cubone', 'Grumpig', 'Kirlia', 'Kricketune', 'Frogadier', 'Whiscash', 'Miltank', 'Emolga', 'Stunky', 'Poliwrath', 'Marill', 'Starly', 'Regirock', 'Drowzee', 'Litwick', 'Fennekin', 'Darumaka', 'Shiftry', 'WormadamSandy Cloak', 'Sunkern', 'Throh', 'Shelgon', 'Simipour', 'Machoke', 'Lileep', 'Dewott', 'MetagrossMega Metagross', 'PidgeotMega Pidgeot', 'Buneary', 'Starmie', 'Venusaur', 'Rhyperior', 'Noibat', 'Onix', 'Klang', 'Medicham', 'Heatran', 'Oshawott', 'Snover', 'Yanma', 'CharizardMega Charizard Y', 'Bibarel', 'Combusken', 'Floette', 'Oddish', 'Noctowl', 'SalamenceMega Salamence', 'Cacturne', 'Croconaw', 'Chandelure', 'Beldum', 'Hitmonchan', 'Garbodor', 'Manectric', 'Solrock', 'Misdreavus', 'RotomMow Rotom', 'Lairon', 'Suicune', 'Whismur', 'Metapod', 'Yanmega', 'Beautifly', 'DeoxysAttack Forme', 'Gastrodon', 'Nidoran♀', 'Munna', 'Aron', 'Golduck', 'Lotad', 'Lickilicky', 'Tynamo', 'BlastoiseMega Blastoise', 'Koffing', 'Hitmontop', 'Togepi', 'KyuremWhite Kyurem', 'Pawniard', 'Zebstrika', 'Axew', 'Articuno', 'Weepinbell', 'Eelektross', 'Bronzong', 'GourgeistSmall Size', 'PumpkabooSmall Size', 'ScizorMega Scizor', 'Quagsire', 'Tangrowth', 'Abomasnow', 'AegislashShield Forme', 'Rhydon', 'Finneon', 'Pidove', 'Aromatisse', 'Jigglypuff', 'Ariados', 'Seel', 'MeloettaAria Forme', 'Pidgeot', 'Dialga', 'Squirtle', 'Hippopotas', 'Growlithe', 'Luxio', 'Chatot', 'Nincada', 'DeoxysSpeed Forme', 'Skorupi', 'Mantyke', 'Leafeon', 'Heracross', 'Magneton', 'Ninjask', 'Quilava', 'Pyroar', 'Zangoose', 'Durant', 'DarmanitanStandard Mode', 'MewtwoMega Mewtwo X', 'Ledian', 'Heliolisk', 'Spewpa', 'Elekid', 'Goomy', 'Ambipom', 'Regigigas', 'Camerupt', 'Vibrava', 'DeoxysDefense Forme', 'Probopass', 'Armaldo', 'Excadrill', 'Ninetales', 'Skiploom', 'Riolu', 'Larvesta', 'Wigglytuff', 'Natu', 'Helioptile', 'Skuntank', 'Linoone', 'Raticate', 'Nidorina', 'Shinx', 'Garchomp', 'Mightyena', 'Vigoroth', 'Cubchoo', 'Roselia', 'Avalugg', 'Treecko', 'Magmar', 'Bayleef', 'Gorebyss', 'Reshiram', 'Chesnaught', 'Magnezone', 'Bunnelby', 'Totodile', 'Budew', 'Bagon', 'Pansage', 'Blastoise', 'Swampert', 'Glameow', 'Diglett', 'Carbink', 'Scizor', 'Sudowoodo', 'Kakuna', 'GiratinaAltered Forme', 'Wingull', 'Kadabra', 'Gogoat', 'Skitty', 'Venipede', 'Pangoro', 'Diancie', 'HoopaHoopa Unbound', 'Bronzor', 'Scolipede', 'Smoochum', 'Meditite', 'Eevee', 'Simisage', 'Dedenne', 'Porygon2', 'Lillipup', 'Machamp', 'Vivillon', 'Rapidash', 'Volcanion', 'Joltik', 'Meowth', 'Floatzel', 'Mismagius', 'Magikarp', 'Staravia', 'Tyrunt', 'Druddigon', 'Dragonite', 'Vileplume', 'Shuckle', 'Dustox', 'Shellos', 'Skarmory', 'Dusknoir', 'Kecleon', 'HoopaHoopa Confined', 'Tirtouga', 'SceptileMega Sceptile', 'Vanillite', 'Happiny', 'Lugia', 'GalladeMega Gallade', 'Mesprit', 'Bergmite', 'GardevoirMega Gardevoir', 'Krookodile', 'Unfezant', 'Bisharp', 'Horsea', 'Salamence', 'Alakazam', 'Goldeen', 'Tauros', 'RayquazaMega Rayquaza', 'Eelektrik', 'LopunnyMega Lopunny', 'Delibird', 'Wailord', 'Zoroark', 'Omanyte', 'Shieldon', 'Vaporeon', 'Weezing', 'Electabuzz', 'Porygon', 'Slowpoke', 'KeldeoResolute Forme', 'Burmy', 'Palkia', 'Clamperl', 'LandorusIncarnate Forme', 'Teddiursa', 'CharizardMega Charizard X', 'Ursaring', 'Walrein', 'Electrike', 'Flareon', 'Pelipper', 'Magnemite', 'Cottonee', 'Archeops', 'Florges', 'Rattata', 'Psyduck', 'Mareep', 'Xerneas', 'Stunfisk', 'Honedge', 'Nidoqueen', 'Kabutops', 'Whimsicott', 'Larvitar', 'Karrablast', 'Delphox', 'Conkeldurr', 'Tangela', 'Numel', 'Charmander', 'Aerodactyl', 'AudinoMega Audino', 'Stoutland', 'Ledyba', 'PumpkabooSuper Size', 'Monferno', 'Machop', 'Swadloon', 'Gurdurr', 'Dwebble', 'Clefable', 'Grotle', 'Mothim', 'Aggron', 'Volcarona', 'Sneasel', 'Magcargo', 'Sawk', 'Golem', 'Exeggutor', 'Beedrill', 'Registeel', 'Wobbuffet', 'Alomomola', 'Amaura', 'Skiddo', 'Electivire', 'Mankey', 'HoundoomMega Houndoom', 'Milotic', 'Scyther', 'Purugly', 'Tyrantrum', 'Piloswine', 'Pupitar', 'BanetteMega Banette', 'Chimecho', 'Parasect', 'Wailmer', 'Lapras', 'Heatmor', 'Staryu', 'Virizion', 'Silcoon', 'Banette', 'Gyarados', 'Vespiquen', 'Anorith', 'RotomWash Rotom', 'Diggersby', 'Slaking', 'MawileMega Mawile', 'Mr. Mime', 'Entei', 'Castform', 'WormadamTrash Cloak', 'Fletchling', 'SteelixMega Steelix', 'Nidoran♂', 'KyogrePrimal Kyogre', 'Samurott', 'Munchlax', 'Pidgeotto', 'Snivy', 'KangaskhanMega Kangaskhan', 'Ralts', 'Espurr'}\n"
     ]
    }
   ],
   "source": [
    "#칼럼이 name인 데이터의 길이 = 총 데이터의 길이\n",
    "len(set(pokemon[\"Name\"]))\n",
    "print(set(pokemon[\"Name\"]))"
   ]
  },
  {
   "cell_type": "code",
   "execution_count": 31,
   "metadata": {},
   "outputs": [
    {
     "data": {
      "text/html": [
       "<div>\n",
       "<style scoped>\n",
       "    .dataframe tbody tr th:only-of-type {\n",
       "        vertical-align: middle;\n",
       "    }\n",
       "\n",
       "    .dataframe tbody tr th {\n",
       "        vertical-align: top;\n",
       "    }\n",
       "\n",
       "    .dataframe thead th {\n",
       "        text-align: right;\n",
       "    }\n",
       "</style>\n",
       "<table border=\"1\" class=\"dataframe\">\n",
       "  <thead>\n",
       "    <tr style=\"text-align: right;\">\n",
       "      <th></th>\n",
       "      <th>#</th>\n",
       "      <th>Name</th>\n",
       "      <th>Type 1</th>\n",
       "      <th>Type 2</th>\n",
       "      <th>Total</th>\n",
       "      <th>HP</th>\n",
       "      <th>Attack</th>\n",
       "      <th>Defense</th>\n",
       "      <th>Sp. Atk</th>\n",
       "      <th>Sp. Def</th>\n",
       "      <th>Speed</th>\n",
       "      <th>Generation</th>\n",
       "      <th>Legendary</th>\n",
       "    </tr>\n",
       "  </thead>\n",
       "  <tbody>\n",
       "    <tr>\n",
       "      <th>6</th>\n",
       "      <td>6</td>\n",
       "      <td>Charizard</td>\n",
       "      <td>Fire</td>\n",
       "      <td>Flying</td>\n",
       "      <td>534</td>\n",
       "      <td>78</td>\n",
       "      <td>84</td>\n",
       "      <td>78</td>\n",
       "      <td>109</td>\n",
       "      <td>85</td>\n",
       "      <td>100</td>\n",
       "      <td>1</td>\n",
       "      <td>False</td>\n",
       "    </tr>\n",
       "    <tr>\n",
       "      <th>10</th>\n",
       "      <td>8</td>\n",
       "      <td>Wartortle</td>\n",
       "      <td>Water</td>\n",
       "      <td>NaN</td>\n",
       "      <td>405</td>\n",
       "      <td>59</td>\n",
       "      <td>63</td>\n",
       "      <td>80</td>\n",
       "      <td>65</td>\n",
       "      <td>80</td>\n",
       "      <td>58</td>\n",
       "      <td>1</td>\n",
       "      <td>False</td>\n",
       "    </tr>\n",
       "  </tbody>\n",
       "</table>\n",
       "</div>"
      ],
      "text/plain": [
       "    #       Name Type 1  Type 2  Total  HP  Attack  Defense  Sp. Atk  Sp. Def  \\\n",
       "6   6  Charizard   Fire  Flying    534  78      84       78      109       85   \n",
       "10  8  Wartortle  Water     NaN    405  59      63       80       65       80   \n",
       "\n",
       "    Speed  Generation  Legendary  \n",
       "6     100           1      False  \n",
       "10     58           1      False  "
      ]
     },
     "execution_count": 31,
     "metadata": {},
     "output_type": "execute_result"
    }
   ],
   "source": [
    "# 6번째, 10 번째 값들 출력\n",
    "pokemon.loc[[6, 10]]"
   ]
  },
  {
   "cell_type": "code",
   "execution_count": 32,
   "metadata": {},
   "outputs": [
    {
     "data": {
      "text/plain": [
       "(18, 19)"
      ]
     },
     "execution_count": 32,
     "metadata": {},
     "output_type": "execute_result"
    }
   ],
   "source": [
    "# 각 속성의 종류(type 1 칼럼, type2 칼럼의 갯수\n",
    "len(list(set(pokemon[\"Type 1\"]))), len(list(set(pokemon[\"Type 2\"])))"
   ]
  },
  {
   "cell_type": "code",
   "execution_count": 33,
   "metadata": {},
   "outputs": [
    {
     "data": {
      "text/plain": [
       "{nan}"
      ]
     },
     "execution_count": 33,
     "metadata": {},
     "output_type": "execute_result"
    }
   ],
   "source": [
    "# 차집합구하기 type2에만 있는 거\n",
    "set(pokemon[\"Type 2\"]) - set(pokemon[\"Type 1\"])"
   ]
  },
  {
   "cell_type": "code",
   "execution_count": 34,
   "metadata": {
    "scrolled": true
   },
   "outputs": [
    {
     "name": "stdout",
     "output_type": "stream",
     "text": [
      "18\n",
      "['Grass', 'Ground', 'Fire', 'Water', 'Normal', 'Poison', 'Ghost', 'Fighting', 'Psychic', 'Dragon', 'Ice', 'Fairy', 'Electric', 'Dark', 'Steel', 'Flying', 'Bug', 'Rock']\n"
     ]
    }
   ],
   "source": [
    "#type1타입을 type에 저장\n",
    "types = list(set(pokemon[\"Type 1\"]))\n",
    "print(len(types))\n",
    "print(types)"
   ]
  },
  {
   "cell_type": "code",
   "execution_count": 32,
   "metadata": {},
   "outputs": [
    {
     "data": {
      "text/plain": [
       "0      False\n",
       "1      False\n",
       "2      False\n",
       "3      False\n",
       "4       True\n",
       "       ...  \n",
       "795    False\n",
       "796    False\n",
       "797    False\n",
       "798    False\n",
       "799    False\n",
       "Name: Type 2, Length: 800, dtype: bool"
      ]
     },
     "execution_count": 32,
     "metadata": {},
     "output_type": "execute_result"
    }
   ],
   "source": [
    "# 판다스의 isna()함수\n",
    "# false / true로 반환\n",
    "pokemon[\"Type 2\"].isna()"
   ]
  },
  {
   "cell_type": "code",
   "execution_count": 33,
   "metadata": {},
   "outputs": [
    {
     "data": {
      "text/html": [
       "<div>\n",
       "<style scoped>\n",
       "    .dataframe tbody tr th:only-of-type {\n",
       "        vertical-align: middle;\n",
       "    }\n",
       "\n",
       "    .dataframe tbody tr th {\n",
       "        vertical-align: top;\n",
       "    }\n",
       "\n",
       "    .dataframe thead th {\n",
       "        text-align: right;\n",
       "    }\n",
       "</style>\n",
       "<table border=\"1\" class=\"dataframe\">\n",
       "  <thead>\n",
       "    <tr style=\"text-align: right;\">\n",
       "      <th></th>\n",
       "      <th>#</th>\n",
       "      <th>Name</th>\n",
       "      <th>Type 1</th>\n",
       "      <th>Type 2</th>\n",
       "      <th>Total</th>\n",
       "      <th>HP</th>\n",
       "      <th>Attack</th>\n",
       "      <th>Defense</th>\n",
       "      <th>Sp. Atk</th>\n",
       "      <th>Sp. Def</th>\n",
       "      <th>Speed</th>\n",
       "      <th>Generation</th>\n",
       "      <th>Legendary</th>\n",
       "    </tr>\n",
       "  </thead>\n",
       "  <tbody>\n",
       "    <tr>\n",
       "      <th>0</th>\n",
       "      <td>1</td>\n",
       "      <td>Bulbasaur</td>\n",
       "      <td>Grass</td>\n",
       "      <td>Poison</td>\n",
       "      <td>318</td>\n",
       "      <td>45</td>\n",
       "      <td>49</td>\n",
       "      <td>49</td>\n",
       "      <td>65</td>\n",
       "      <td>65</td>\n",
       "      <td>45</td>\n",
       "      <td>1</td>\n",
       "      <td>False</td>\n",
       "    </tr>\n",
       "    <tr>\n",
       "      <th>1</th>\n",
       "      <td>2</td>\n",
       "      <td>Ivysaur</td>\n",
       "      <td>Grass</td>\n",
       "      <td>Poison</td>\n",
       "      <td>405</td>\n",
       "      <td>60</td>\n",
       "      <td>62</td>\n",
       "      <td>63</td>\n",
       "      <td>80</td>\n",
       "      <td>80</td>\n",
       "      <td>60</td>\n",
       "      <td>1</td>\n",
       "      <td>False</td>\n",
       "    </tr>\n",
       "    <tr>\n",
       "      <th>2</th>\n",
       "      <td>3</td>\n",
       "      <td>Venusaur</td>\n",
       "      <td>Grass</td>\n",
       "      <td>Poison</td>\n",
       "      <td>525</td>\n",
       "      <td>80</td>\n",
       "      <td>82</td>\n",
       "      <td>83</td>\n",
       "      <td>100</td>\n",
       "      <td>100</td>\n",
       "      <td>80</td>\n",
       "      <td>1</td>\n",
       "      <td>False</td>\n",
       "    </tr>\n",
       "    <tr>\n",
       "      <th>3</th>\n",
       "      <td>3</td>\n",
       "      <td>VenusaurMega Venusaur</td>\n",
       "      <td>Grass</td>\n",
       "      <td>Poison</td>\n",
       "      <td>625</td>\n",
       "      <td>80</td>\n",
       "      <td>100</td>\n",
       "      <td>123</td>\n",
       "      <td>122</td>\n",
       "      <td>120</td>\n",
       "      <td>80</td>\n",
       "      <td>1</td>\n",
       "      <td>False</td>\n",
       "    </tr>\n",
       "    <tr>\n",
       "      <th>4</th>\n",
       "      <td>4</td>\n",
       "      <td>Charmander</td>\n",
       "      <td>Fire</td>\n",
       "      <td>NaN</td>\n",
       "      <td>309</td>\n",
       "      <td>39</td>\n",
       "      <td>52</td>\n",
       "      <td>43</td>\n",
       "      <td>60</td>\n",
       "      <td>50</td>\n",
       "      <td>65</td>\n",
       "      <td>1</td>\n",
       "      <td>False</td>\n",
       "    </tr>\n",
       "    <tr>\n",
       "      <th>5</th>\n",
       "      <td>5</td>\n",
       "      <td>Charmeleon</td>\n",
       "      <td>Fire</td>\n",
       "      <td>NaN</td>\n",
       "      <td>405</td>\n",
       "      <td>58</td>\n",
       "      <td>64</td>\n",
       "      <td>58</td>\n",
       "      <td>80</td>\n",
       "      <td>65</td>\n",
       "      <td>80</td>\n",
       "      <td>1</td>\n",
       "      <td>False</td>\n",
       "    </tr>\n",
       "    <tr>\n",
       "      <th>6</th>\n",
       "      <td>6</td>\n",
       "      <td>Charizard</td>\n",
       "      <td>Fire</td>\n",
       "      <td>Flying</td>\n",
       "      <td>534</td>\n",
       "      <td>78</td>\n",
       "      <td>84</td>\n",
       "      <td>78</td>\n",
       "      <td>109</td>\n",
       "      <td>85</td>\n",
       "      <td>100</td>\n",
       "      <td>1</td>\n",
       "      <td>False</td>\n",
       "    </tr>\n",
       "    <tr>\n",
       "      <th>7</th>\n",
       "      <td>6</td>\n",
       "      <td>CharizardMega Charizard X</td>\n",
       "      <td>Fire</td>\n",
       "      <td>Dragon</td>\n",
       "      <td>634</td>\n",
       "      <td>78</td>\n",
       "      <td>130</td>\n",
       "      <td>111</td>\n",
       "      <td>130</td>\n",
       "      <td>85</td>\n",
       "      <td>100</td>\n",
       "      <td>1</td>\n",
       "      <td>False</td>\n",
       "    </tr>\n",
       "    <tr>\n",
       "      <th>8</th>\n",
       "      <td>6</td>\n",
       "      <td>CharizardMega Charizard Y</td>\n",
       "      <td>Fire</td>\n",
       "      <td>Flying</td>\n",
       "      <td>634</td>\n",
       "      <td>78</td>\n",
       "      <td>104</td>\n",
       "      <td>78</td>\n",
       "      <td>159</td>\n",
       "      <td>115</td>\n",
       "      <td>100</td>\n",
       "      <td>1</td>\n",
       "      <td>False</td>\n",
       "    </tr>\n",
       "    <tr>\n",
       "      <th>9</th>\n",
       "      <td>7</td>\n",
       "      <td>Squirtle</td>\n",
       "      <td>Water</td>\n",
       "      <td>NaN</td>\n",
       "      <td>314</td>\n",
       "      <td>44</td>\n",
       "      <td>48</td>\n",
       "      <td>65</td>\n",
       "      <td>50</td>\n",
       "      <td>64</td>\n",
       "      <td>43</td>\n",
       "      <td>1</td>\n",
       "      <td>False</td>\n",
       "    </tr>\n",
       "    <tr>\n",
       "      <th>10</th>\n",
       "      <td>8</td>\n",
       "      <td>Wartortle</td>\n",
       "      <td>Water</td>\n",
       "      <td>NaN</td>\n",
       "      <td>405</td>\n",
       "      <td>59</td>\n",
       "      <td>63</td>\n",
       "      <td>80</td>\n",
       "      <td>65</td>\n",
       "      <td>80</td>\n",
       "      <td>58</td>\n",
       "      <td>1</td>\n",
       "      <td>False</td>\n",
       "    </tr>\n",
       "    <tr>\n",
       "      <th>11</th>\n",
       "      <td>9</td>\n",
       "      <td>Blastoise</td>\n",
       "      <td>Water</td>\n",
       "      <td>NaN</td>\n",
       "      <td>530</td>\n",
       "      <td>79</td>\n",
       "      <td>83</td>\n",
       "      <td>100</td>\n",
       "      <td>85</td>\n",
       "      <td>105</td>\n",
       "      <td>78</td>\n",
       "      <td>1</td>\n",
       "      <td>False</td>\n",
       "    </tr>\n",
       "    <tr>\n",
       "      <th>12</th>\n",
       "      <td>9</td>\n",
       "      <td>BlastoiseMega Blastoise</td>\n",
       "      <td>Water</td>\n",
       "      <td>NaN</td>\n",
       "      <td>630</td>\n",
       "      <td>79</td>\n",
       "      <td>103</td>\n",
       "      <td>120</td>\n",
       "      <td>135</td>\n",
       "      <td>115</td>\n",
       "      <td>78</td>\n",
       "      <td>1</td>\n",
       "      <td>False</td>\n",
       "    </tr>\n",
       "    <tr>\n",
       "      <th>13</th>\n",
       "      <td>10</td>\n",
       "      <td>Caterpie</td>\n",
       "      <td>Bug</td>\n",
       "      <td>NaN</td>\n",
       "      <td>195</td>\n",
       "      <td>45</td>\n",
       "      <td>30</td>\n",
       "      <td>35</td>\n",
       "      <td>20</td>\n",
       "      <td>20</td>\n",
       "      <td>45</td>\n",
       "      <td>1</td>\n",
       "      <td>False</td>\n",
       "    </tr>\n",
       "    <tr>\n",
       "      <th>14</th>\n",
       "      <td>11</td>\n",
       "      <td>Metapod</td>\n",
       "      <td>Bug</td>\n",
       "      <td>NaN</td>\n",
       "      <td>205</td>\n",
       "      <td>50</td>\n",
       "      <td>20</td>\n",
       "      <td>55</td>\n",
       "      <td>25</td>\n",
       "      <td>25</td>\n",
       "      <td>30</td>\n",
       "      <td>1</td>\n",
       "      <td>False</td>\n",
       "    </tr>\n",
       "    <tr>\n",
       "      <th>15</th>\n",
       "      <td>12</td>\n",
       "      <td>Butterfree</td>\n",
       "      <td>Bug</td>\n",
       "      <td>Flying</td>\n",
       "      <td>395</td>\n",
       "      <td>60</td>\n",
       "      <td>45</td>\n",
       "      <td>50</td>\n",
       "      <td>90</td>\n",
       "      <td>80</td>\n",
       "      <td>70</td>\n",
       "      <td>1</td>\n",
       "      <td>False</td>\n",
       "    </tr>\n",
       "    <tr>\n",
       "      <th>16</th>\n",
       "      <td>13</td>\n",
       "      <td>Weedle</td>\n",
       "      <td>Bug</td>\n",
       "      <td>Poison</td>\n",
       "      <td>195</td>\n",
       "      <td>40</td>\n",
       "      <td>35</td>\n",
       "      <td>30</td>\n",
       "      <td>20</td>\n",
       "      <td>20</td>\n",
       "      <td>50</td>\n",
       "      <td>1</td>\n",
       "      <td>False</td>\n",
       "    </tr>\n",
       "    <tr>\n",
       "      <th>17</th>\n",
       "      <td>14</td>\n",
       "      <td>Kakuna</td>\n",
       "      <td>Bug</td>\n",
       "      <td>Poison</td>\n",
       "      <td>205</td>\n",
       "      <td>45</td>\n",
       "      <td>25</td>\n",
       "      <td>50</td>\n",
       "      <td>25</td>\n",
       "      <td>25</td>\n",
       "      <td>35</td>\n",
       "      <td>1</td>\n",
       "      <td>False</td>\n",
       "    </tr>\n",
       "    <tr>\n",
       "      <th>18</th>\n",
       "      <td>15</td>\n",
       "      <td>Beedrill</td>\n",
       "      <td>Bug</td>\n",
       "      <td>Poison</td>\n",
       "      <td>395</td>\n",
       "      <td>65</td>\n",
       "      <td>90</td>\n",
       "      <td>40</td>\n",
       "      <td>45</td>\n",
       "      <td>80</td>\n",
       "      <td>75</td>\n",
       "      <td>1</td>\n",
       "      <td>False</td>\n",
       "    </tr>\n",
       "    <tr>\n",
       "      <th>19</th>\n",
       "      <td>15</td>\n",
       "      <td>BeedrillMega Beedrill</td>\n",
       "      <td>Bug</td>\n",
       "      <td>Poison</td>\n",
       "      <td>495</td>\n",
       "      <td>65</td>\n",
       "      <td>150</td>\n",
       "      <td>40</td>\n",
       "      <td>15</td>\n",
       "      <td>80</td>\n",
       "      <td>145</td>\n",
       "      <td>1</td>\n",
       "      <td>False</td>\n",
       "    </tr>\n",
       "  </tbody>\n",
       "</table>\n",
       "</div>"
      ],
      "text/plain": [
       "     #                       Name Type 1  Type 2  Total  HP  Attack  Defense  \\\n",
       "0    1                  Bulbasaur  Grass  Poison    318  45      49       49   \n",
       "1    2                    Ivysaur  Grass  Poison    405  60      62       63   \n",
       "2    3                   Venusaur  Grass  Poison    525  80      82       83   \n",
       "3    3      VenusaurMega Venusaur  Grass  Poison    625  80     100      123   \n",
       "4    4                 Charmander   Fire     NaN    309  39      52       43   \n",
       "5    5                 Charmeleon   Fire     NaN    405  58      64       58   \n",
       "6    6                  Charizard   Fire  Flying    534  78      84       78   \n",
       "7    6  CharizardMega Charizard X   Fire  Dragon    634  78     130      111   \n",
       "8    6  CharizardMega Charizard Y   Fire  Flying    634  78     104       78   \n",
       "9    7                   Squirtle  Water     NaN    314  44      48       65   \n",
       "10   8                  Wartortle  Water     NaN    405  59      63       80   \n",
       "11   9                  Blastoise  Water     NaN    530  79      83      100   \n",
       "12   9    BlastoiseMega Blastoise  Water     NaN    630  79     103      120   \n",
       "13  10                   Caterpie    Bug     NaN    195  45      30       35   \n",
       "14  11                    Metapod    Bug     NaN    205  50      20       55   \n",
       "15  12                 Butterfree    Bug  Flying    395  60      45       50   \n",
       "16  13                     Weedle    Bug  Poison    195  40      35       30   \n",
       "17  14                     Kakuna    Bug  Poison    205  45      25       50   \n",
       "18  15                   Beedrill    Bug  Poison    395  65      90       40   \n",
       "19  15      BeedrillMega Beedrill    Bug  Poison    495  65     150       40   \n",
       "\n",
       "    Sp. Atk  Sp. Def  Speed  Generation  Legendary  \n",
       "0        65       65     45           1      False  \n",
       "1        80       80     60           1      False  \n",
       "2       100      100     80           1      False  \n",
       "3       122      120     80           1      False  \n",
       "4        60       50     65           1      False  \n",
       "5        80       65     80           1      False  \n",
       "6       109       85    100           1      False  \n",
       "7       130       85    100           1      False  \n",
       "8       159      115    100           1      False  \n",
       "9        50       64     43           1      False  \n",
       "10       65       80     58           1      False  \n",
       "11       85      105     78           1      False  \n",
       "12      135      115     78           1      False  \n",
       "13       20       20     45           1      False  \n",
       "14       25       25     30           1      False  \n",
       "15       90       80     70           1      False  \n",
       "16       20       20     50           1      False  \n",
       "17       25       25     35           1      False  \n",
       "18       45       80     75           1      False  \n",
       "19       15       80    145           1      False  "
      ]
     },
     "execution_count": 33,
     "metadata": {},
     "output_type": "execute_result"
    }
   ],
   "source": [
    "pokemon.head(20)\n",
    "#isna() 결과와 봤을때 index4-type2와 보기\n",
    "#nan이 true로 발생"
   ]
  },
  {
   "cell_type": "code",
   "execution_count": 18,
   "metadata": {},
   "outputs": [
    {
     "data": {
      "text/plain": [
       "386"
      ]
     },
     "execution_count": 18,
     "metadata": {},
     "output_type": "execute_result"
    }
   ],
   "source": [
    "# 판다스의 isna()함수\n",
    "# false / true로 반환\n",
    "pokemon[\"Type 2\"].isna().sum()"
   ]
  },
  {
   "cell_type": "code",
   "execution_count": 19,
   "metadata": {},
   "outputs": [
    {
     "data": {
      "text/plain": [
       "3"
      ]
     },
     "execution_count": 19,
     "metadata": {},
     "output_type": "execute_result"
    }
   ],
   "source": [
    "# head 10미만까지의 isna(T/F로 치환)한 것들의 합 = FALSE의 합(Nan 등) // FALSE는 1 true는 0\n",
    "pokemon.head(10)[\"Type 2\"].isna().sum()"
   ]
  },
  {
   "cell_type": "code",
   "execution_count": 10,
   "metadata": {},
   "outputs": [
    {
     "data": {
      "text/plain": [
       "414"
      ]
     },
     "execution_count": 10,
     "metadata": {},
     "output_type": "execute_result"
    }
   ],
   "source": [
    "pokemon[\"Type 2\"].notna().sum()\n",
    "#isna와 반대\n",
    "# 값이 있으면 true / 값이 na면 fasle\n",
    "# 즉 값이 na인 것들의 합(갯수)"
   ]
  },
  {
   "cell_type": "markdown",
   "metadata": {},
   "source": [
    "## 13-7. plt의 subplot활용하여 두개의 그래프를 한번에 그리기"
   ]
  },
  {
   "cell_type": "markdown",
   "metadata": {},
   "source": [
    "#### . plt.subplot의 의미 == 그래프 출력의 위치"
   ]
  },
  {
   "attachments": {
    "image.png": {
     "image/png": "[encoded data removed]"
    }
   },
   "cell_type": "markdown",
   "metadata": {},
   "source": [
    "![image.png](attachment:image.png)"
   ]
  },
  {
   "cell_type": "code",
   "execution_count": 48,
   "metadata": {},
   "outputs": [
    {
     "data": {
      "image/png": "[encoded data removed]",
      "text/plain": [
       "<Figure size 1296x720 with 2 Axes>"
      ]
     },
     "metadata": {
      "image/png": {
       "height": 589,
       "width": 1058
      },
      "needs_background": "light"
     },
     "output_type": "display_data"
    }
   ],
   "source": [
    "##sns(seaborn)의 countplot을 활용하겠습니다.\n",
    "#countplot은 말 그대로 데이터의 개수를 표시하는 플롯입니다.\n",
    "plt.figure(figsize=(18, 10))    #표의 프레임크기(가로세로)\n",
    "목\n",
    "plt.subplot(211)    #\n",
    "sns.countplot(data=ordinary, x=\"Type 1\", order=types).set_xlabel('') #위에 ordinary에 데이터정의한거를 type 1 칼럼을 x 축에 대입 / x축에 제목\n",
    "plt.title(\"[All Pokemons]\")    ##그래프의 헤드\n",
    "\n",
    "plt.subplot(212)\n",
    "sns.countplot(data=legendary, x=\"Type 1\", order=types).set_xlabel('')\n",
    "plt.title(\"[Legendary Pokemons]\")\n",
    "\n",
    "plt.show() #최종적 출력(없어도 출력이 되긴 함)\n"
   ]
  },
  {
   "cell_type": "code",
   "execution_count": 11,
   "metadata": {},
   "outputs": [
    {
     "data": {
      "text/plain": [
       "<Figure size 1296x720 with 0 Axes>"
      ]
     },
     "execution_count": 11,
     "metadata": {},
     "output_type": "execute_result"
    },
    {
     "data": {
      "text/plain": [
       "<Figure size 1296x720 with 0 Axes>"
      ]
     },
     "metadata": {},
     "output_type": "display_data"
    }
   ],
   "source": [
    "##sns(seaborn)의 countplot을 활용하겠습니다.\n",
    "#countplot은 말 그대로 데이터의 개수를 표시하는 플롯입니다.\n",
    "plt.figure(figsize=(18, 10))\n",
    "\n"
   ]
  },
  {
   "cell_type": "code",
   "execution_count": 43,
   "metadata": {},
   "outputs": [
    {
     "data": {
      "text/plain": [
       "Text(0.5, 1.0, '[All Pokemons]')"
      ]
     },
     "execution_count": 43,
     "metadata": {},
     "output_type": "execute_result"
    },
    {
     "data": {
      "image/png": "[encoded data removed]",
      "text/plain": [
       "<Figure size 432x288 with 1 Axes>"
      ]
     },
     "metadata": {
      "image/png": {
       "height": 145,
       "width": 391
      },
      "needs_background": "light"
     },
     "output_type": "display_data"
    }
   ],
   "source": [
    "plt.subplot(211)\n",
    "sns.countplot(data=ordinary, x=\"Type 1\", order=types).set_xlabel('')\n",
    "plt.title(\"[All Pokemons]\")    #그래프의 헤드\n"
   ]
  },
  {
   "cell_type": "code",
   "execution_count": 50,
   "metadata": {},
   "outputs": [
    {
     "data": {
      "text/plain": [
       "Text(0.5, 1.0, '[All Pokemons]')"
      ]
     },
     "execution_count": 50,
     "metadata": {},
     "output_type": "execute_result"
    },
    {
     "data": {
      "image/png": "[encoded data removed]",
      "text/plain": [
       "<Figure size 432x288 with 1 Axes>"
      ]
     },
     "metadata": {
      "image/png": {
       "height": 158,
       "width": 391
      },
      "needs_background": "light"
     },
     "output_type": "display_data"
    }
   ],
   "source": [
    "##.set_xlabel('') 의 차이(그래프 x축 헤드 보기\n",
    "plt.subplot(211)\n",
    "sns.countplot(data=ordinary, x=\"Type 1\", order=types)\n",
    "plt.title(\"[All Pokemons]\")    #그래프의 헤드\n"
   ]
  },
  {
   "cell_type": "code",
   "execution_count": 44,
   "metadata": {},
   "outputs": [
    {
     "data": {
      "image/png": "[encoded data removed]",
      "text/plain": [
       "<Figure size 432x288 with 1 Axes>"
      ]
     },
     "metadata": {
      "image/png": {
       "height": 145,
       "width": 385
      },
      "needs_background": "light"
     },
     "output_type": "display_data"
    }
   ],
   "source": [
    "plt.subplot(212)\n",
    "sns.countplot(data=legendary, x=\"Type 1\", order=types).set_xlabel('')\n",
    "plt.title(\"[Legendary Pokemons]\")\n",
    "\n",
    "plt.show()"
   ]
  },
  {
   "cell_type": "code",
   "execution_count": 42,
   "metadata": {},
   "outputs": [
    {
     "data": {
      "text/html": [
       "<div>\n",
       "<style scoped>\n",
       "    .dataframe tbody tr th:only-of-type {\n",
       "        vertical-align: middle;\n",
       "    }\n",
       "\n",
       "    .dataframe tbody tr th {\n",
       "        vertical-align: top;\n",
       "    }\n",
       "\n",
       "    .dataframe thead th {\n",
       "        text-align: right;\n",
       "    }\n",
       "</style>\n",
       "<table border=\"1\" class=\"dataframe\">\n",
       "  <thead>\n",
       "    <tr style=\"text-align: right;\">\n",
       "      <th></th>\n",
       "      <th>Legendary</th>\n",
       "    </tr>\n",
       "    <tr>\n",
       "      <th>Type 1</th>\n",
       "      <th></th>\n",
       "    </tr>\n",
       "  </thead>\n",
       "  <tbody>\n",
       "    <tr>\n",
       "      <th>Flying</th>\n",
       "      <td>0.500000</td>\n",
       "    </tr>\n",
       "    <tr>\n",
       "      <th>Dragon</th>\n",
       "      <td>0.375000</td>\n",
       "    </tr>\n",
       "    <tr>\n",
       "      <th>Psychic</th>\n",
       "      <td>0.245614</td>\n",
       "    </tr>\n",
       "    <tr>\n",
       "      <th>Steel</th>\n",
       "      <td>0.148148</td>\n",
       "    </tr>\n",
       "    <tr>\n",
       "      <th>Ground</th>\n",
       "      <td>0.125000</td>\n",
       "    </tr>\n",
       "    <tr>\n",
       "      <th>Fire</th>\n",
       "      <td>0.096154</td>\n",
       "    </tr>\n",
       "    <tr>\n",
       "      <th>Electric</th>\n",
       "      <td>0.090909</td>\n",
       "    </tr>\n",
       "    <tr>\n",
       "      <th>Rock</th>\n",
       "      <td>0.090909</td>\n",
       "    </tr>\n",
       "    <tr>\n",
       "      <th>Ice</th>\n",
       "      <td>0.083333</td>\n",
       "    </tr>\n",
       "    <tr>\n",
       "      <th>Dark</th>\n",
       "      <td>0.064516</td>\n",
       "    </tr>\n",
       "    <tr>\n",
       "      <th>Ghost</th>\n",
       "      <td>0.062500</td>\n",
       "    </tr>\n",
       "    <tr>\n",
       "      <th>Fairy</th>\n",
       "      <td>0.058824</td>\n",
       "    </tr>\n",
       "    <tr>\n",
       "      <th>Grass</th>\n",
       "      <td>0.042857</td>\n",
       "    </tr>\n",
       "    <tr>\n",
       "      <th>Water</th>\n",
       "      <td>0.035714</td>\n",
       "    </tr>\n",
       "    <tr>\n",
       "      <th>Normal</th>\n",
       "      <td>0.020408</td>\n",
       "    </tr>\n",
       "    <tr>\n",
       "      <th>Poison</th>\n",
       "      <td>0.000000</td>\n",
       "    </tr>\n",
       "    <tr>\n",
       "      <th>Fighting</th>\n",
       "      <td>0.000000</td>\n",
       "    </tr>\n",
       "    <tr>\n",
       "      <th>Bug</th>\n",
       "      <td>0.000000</td>\n",
       "    </tr>\n",
       "  </tbody>\n",
       "</table>\n",
       "</div>"
      ],
      "text/plain": [
       "          Legendary\n",
       "Type 1             \n",
       "Flying     0.500000\n",
       "Dragon     0.375000\n",
       "Psychic    0.245614\n",
       "Steel      0.148148\n",
       "Ground     0.125000\n",
       "Fire       0.096154\n",
       "Electric   0.090909\n",
       "Rock       0.090909\n",
       "Ice        0.083333\n",
       "Dark       0.064516\n",
       "Ghost      0.062500\n",
       "Fairy      0.058824\n",
       "Grass      0.042857\n",
       "Water      0.035714\n",
       "Normal     0.020408\n",
       "Poison     0.000000\n",
       "Fighting   0.000000\n",
       "Bug        0.000000"
      ]
     },
     "execution_count": 42,
     "metadata": {},
     "output_type": "execute_result"
    }
   ],
   "source": [
    "# Type1별로 Legendary 의 비율을 보여주는 피벗 테이블\n",
    "pd.pivot_table(pokemon, index=\"Type 1\", values=\"Legendary\").sort_values(by=[\"Legendary\"], ascending=False)\n",
    "##sort 정렬하는데 ascending = flase 내림차순으로 정e 내림차순으로 정렬e 내림차순으로 정e 내림차순으로 정렬렬"
   ]
  },
  {
   "cell_type": "code",
   "execution_count": 51,
   "metadata": {},
   "outputs": [
    {
     "data": {
      "text/html": [
       "<div>\n",
       "<style scoped>\n",
       "    .dataframe tbody tr th:only-of-type {\n",
       "        vertical-align: middle;\n",
       "    }\n",
       "\n",
       "    .dataframe tbody tr th {\n",
       "        vertical-align: top;\n",
       "    }\n",
       "\n",
       "    .dataframe thead th {\n",
       "        text-align: right;\n",
       "    }\n",
       "</style>\n",
       "<table border=\"1\" class=\"dataframe\">\n",
       "  <thead>\n",
       "    <tr style=\"text-align: right;\">\n",
       "      <th></th>\n",
       "      <th>Legendary</th>\n",
       "    </tr>\n",
       "    <tr>\n",
       "      <th>Type 2</th>\n",
       "      <th></th>\n",
       "    </tr>\n",
       "  </thead>\n",
       "  <tbody>\n",
       "    <tr>\n",
       "      <th>Fire</th>\n",
       "      <td>0.250000</td>\n",
       "    </tr>\n",
       "    <tr>\n",
       "      <th>Dragon</th>\n",
       "      <td>0.222222</td>\n",
       "    </tr>\n",
       "    <tr>\n",
       "      <th>Ice</th>\n",
       "      <td>0.214286</td>\n",
       "    </tr>\n",
       "    <tr>\n",
       "      <th>Electric</th>\n",
       "      <td>0.166667</td>\n",
       "    </tr>\n",
       "    <tr>\n",
       "      <th>Fighting</th>\n",
       "      <td>0.153846</td>\n",
       "    </tr>\n",
       "    <tr>\n",
       "      <th>Psychic</th>\n",
       "      <td>0.151515</td>\n",
       "    </tr>\n",
       "    <tr>\n",
       "      <th>Flying</th>\n",
       "      <td>0.134021</td>\n",
       "    </tr>\n",
       "    <tr>\n",
       "      <th>Fairy</th>\n",
       "      <td>0.086957</td>\n",
       "    </tr>\n",
       "    <tr>\n",
       "      <th>Water</th>\n",
       "      <td>0.071429</td>\n",
       "    </tr>\n",
       "    <tr>\n",
       "      <th>Ghost</th>\n",
       "      <td>0.071429</td>\n",
       "    </tr>\n",
       "    <tr>\n",
       "      <th>Dark</th>\n",
       "      <td>0.050000</td>\n",
       "    </tr>\n",
       "    <tr>\n",
       "      <th>Steel</th>\n",
       "      <td>0.045455</td>\n",
       "    </tr>\n",
       "    <tr>\n",
       "      <th>Ground</th>\n",
       "      <td>0.028571</td>\n",
       "    </tr>\n",
       "    <tr>\n",
       "      <th>Rock</th>\n",
       "      <td>0.000000</td>\n",
       "    </tr>\n",
       "    <tr>\n",
       "      <th>Bug</th>\n",
       "      <td>0.000000</td>\n",
       "    </tr>\n",
       "    <tr>\n",
       "      <th>Poison</th>\n",
       "      <td>0.000000</td>\n",
       "    </tr>\n",
       "    <tr>\n",
       "      <th>Normal</th>\n",
       "      <td>0.000000</td>\n",
       "    </tr>\n",
       "    <tr>\n",
       "      <th>Grass</th>\n",
       "      <td>0.000000</td>\n",
       "    </tr>\n",
       "  </tbody>\n",
       "</table>\n",
       "</div>"
      ],
      "text/plain": [
       "          Legendary\n",
       "Type 2             \n",
       "Fire       0.250000\n",
       "Dragon     0.222222\n",
       "Ice        0.214286\n",
       "Electric   0.166667\n",
       "Fighting   0.153846\n",
       "Psychic    0.151515\n",
       "Flying     0.134021\n",
       "Fairy      0.086957\n",
       "Water      0.071429\n",
       "Ghost      0.071429\n",
       "Dark       0.050000\n",
       "Steel      0.045455\n",
       "Ground     0.028571\n",
       "Rock       0.000000\n",
       "Bug        0.000000\n",
       "Poison     0.000000\n",
       "Normal     0.000000\n",
       "Grass      0.000000"
      ]
     },
     "execution_count": 51,
     "metadata": {},
     "output_type": "execute_result"
    }
   ],
   "source": [
    "# Type2별로 Legendary 의 비율을 보여주는 피벗 테이블\n",
    "pd.pivot_table(pokemon, index=\"Type 2\", values=\"Legendary\").sort_values(by=[\"Legendary\"], ascending=False)"
   ]
  },
  {
   "cell_type": "markdown",
   "metadata": {},
   "source": [
    "#  13-8. 모든 스텟의 총 합"
   ]
  },
  {
   "cell_type": "code",
   "execution_count": null,
   "metadata": {},
   "outputs": [],
   "source": []
  },
  {
   "cell_type": "code",
   "execution_count": null,
   "metadata": {},
   "outputs": [],
   "source": []
  },
  {
   "cell_type": "code",
   "execution_count": null,
   "metadata": {},
   "outputs": [],
   "source": []
  },
  {
   "cell_type": "code",
   "execution_count": null,
   "metadata": {},
   "outputs": [],
   "source": []
  }
 ],
 "metadata": {
  "kernelspec": {
   "display_name": "Python 3",
   "language": "python",
   "name": "python3"
  },
  "language_info": {
   "codemirror_mode": {
    "name": "ipython",
    "version": 3
   },
   "file_extension": ".py",
   "mimetype": "text/x-python",
   "name": "python",
   "nbconvert_exporter": "python",
   "pygments_lexer": "ipython3",
   "version": "3.7.6"
  }
 },
 "nbformat": 4,
 "nbformat_minor": 4
}
