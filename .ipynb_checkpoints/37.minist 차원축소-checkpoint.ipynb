{
 "cells": [
  {
   "cell_type": "code",
   "execution_count": null,
   "metadata": {},
   "outputs": [
    {
     "name": "stdout",
     "output_type": "stream",
     "text": [
      "실행 중입니다... 시간이 다소 걸릴 수 있어요. :)\n",
      "===\n"
     ]
    }
   ],
   "source": [
    "print(\"실행 중입니다... 시간이 다소 걸릴 수 있어요. :)\\n===\")\n",
    "\n",
    "from sklearn.datasets import fetch_openml\n",
    "\n",
    "mnist = fetch_openml(\"mnist_784\",version=1)\n",
    "\n",
    "X = mnist.data / 255.0\n",
    "y = mnist.target\n",
    "print(\"X shape: \",X.shape)\n",
    "print(\"Y shape: \",y.shape)"
   ]
  },
  {
   "cell_type": "code",
   "execution_count": null,
   "metadata": {},
   "outputs": [],
   "source": [
    "n_image = X.shape[0]\n",
    "n_image_pixel = X.shape[1]\n",
    "\n",
    "pixel_columns = [ f\"pixel{i}\" for i in range(n_image_pixel) ] #  픽셀정보가 있는 칼럼의 이름을 담은 목록\n",
    "len(pixel_columns)"
   ]
  },
  {
   "cell_type": "code",
   "execution_count": null,
   "metadata": {},
   "outputs": [],
   "source": []
  }
 ],
 "metadata": {
  "kernelspec": {
   "display_name": "aiffel",
   "language": "python",
   "name": "aiffel"
  },
  "language_info": {
   "codemirror_mode": {
    "name": "ipython",
    "version": 3
   },
   "file_extension": ".py",
   "mimetype": "text/x-python",
   "name": "python",
   "nbconvert_exporter": "python",
   "pygments_lexer": "ipython3",
   "version": "3.7.9"
  }
 },
 "nbformat": 4,
 "nbformat_minor": 4
}
