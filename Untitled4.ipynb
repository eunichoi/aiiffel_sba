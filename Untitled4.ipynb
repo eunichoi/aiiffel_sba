{
 "cells": [
  {
   "cell_type": "code",
   "execution_count": null,
   "metadata": {},
   "outputs": [],
   "source": [
    "# 2개 이상의 숫자를 입력받아 리스트에 저장하는 함수\n",
    "def numbers():\n",
    "    X=[]    # X에 빈 리스트를 할당합니다.\n",
    "    while True:\n",
    "        number = input(\"Enter a number (<Enter key> to quit)\") \n",
    "        while number !=\"\":\n",
    "            try:\n",
    "                x = float(number)\n",
    "                X.append(x)    # float형으로 변환한 숫자 입력을 리스트에 추가합니다.\n",
    "            except ValueError:\n",
    "                print('>>> NOT a number! Ignored..')\n",
    "            number = input(\"Enter a number (<Enter key> to quit)\")\n",
    "        if len(X) > 1:  # 저장된 숫자가 2개 이상일 때만 리턴합니다.\n",
    "            return X\n",
    "\n",
    "X=numbers()\n",
    "\n",
    "print('X :', X)"
   ]
  },
  {
   "cell_type": "code",
   "execution_count": null,
   "metadata": {},
   "outputs": [],
   "source": []
  }
 ],
 "metadata": {
  "kernelspec": {
   "display_name": "Python 3",
   "language": "python",
   "name": "python3"
  },
  "language_info": {
   "codemirror_mode": {
    "name": "ipython",
    "version": 3
   },
   "file_extension": ".py",
   "mimetype": "text/x-python",
   "name": "python",
   "nbconvert_exporter": "python",
   "pygments_lexer": "ipython3",
   "version": "3.7.6"
  }
 },
 "nbformat": 4,
 "nbformat_minor": 4
}
