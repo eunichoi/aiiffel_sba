{
 "cells": [
  {
   "cell_type": "code",
   "execution_count": null,
   "metadata": {},
   "outputs": [
    {
     "name": "stdout",
     "output_type": "stream",
     "text": [
      " * Serving Flask app \"__main__\" (lazy loading)\n",
      " * Environment: production\n",
      "   WARNING: This is a development server. Do not use it in a production deployment.\n",
      "   Use a production WSGI server instead.\n",
      " * Debug mode: off\n"
     ]
    },
    {
     "name": "stderr",
     "output_type": "stream",
     "text": [
      " * Running on http://127.0.0.1:5000/ (Press CTRL+C to quit)\n"
     ]
    }
   ],
   "source": [
    "from flask import Flask    ##flask 패키지에서 Flask 모듈 갖고온다\n",
    "app = Flask(__name__)     ##flask객체 app 변수에 저장\n",
    "\n",
    "@app.route(\"/\")          ##@와 같이 적힌 코드를 데코레이터(decorator)라고 부릅니다. \n",
    "                        ##이 데코레이터는 URL 규칙을 받아 해당하는 규칙의 URL로 요청이 들어오면 붙어 있는 함수(여기에서는 hello())를 실행하게끔 설정합니다.\n",
    "                        ##(‘/’)가 http://IP:(port number)/ 맨 뒤의 /를 의미하며 이는 root의 위치를 나타냅니다.\n",
    "\n",
    "def hello():\n",
    "    return \"플라스크 동작 확인!\"\n",
    "\n",
    "if __name__ == \"__main__\":\n",
    "    app.run()"
   ]
  },
  {
   "cell_type": "code",
   "execution_count": null,
   "metadata": {},
   "outputs": [],
   "source": [
    "##\"TEST FUNCTION\"텍스트를 화면에 표시해주는 함수\n",
    "def main_function():\n",
    "     print (\"test function\")\n",
    "print(\"🚌💨\")"
   ]
  },
  {
   "cell_type": "code",
   "execution_count": 2,
   "metadata": {},
   "outputs": [
    {
     "name": "stdout",
     "output_type": "stream",
     "text": [
      "2020-11-07 11:12:28.399321\n",
      "test function\n",
      "2020-11-07 11:12:28.400116\n"
     ]
    }
   ],
   "source": [
    "##실행시간 확인\n",
    "import datetime\n",
    "\n",
    "# 코드 선언부\n",
    "def main_function():     \n",
    "     print (\"test function\")\n",
    "\n",
    "# 코드 실행부   \n",
    "print (datetime.datetime.now()) #- 텍스트 표시 전 시간\n",
    "main_function()\n",
    "print (datetime.datetime.now()) #- 텍스트 표시 후 시간"
   ]
  },
  {
   "cell_type": "code",
   "execution_count": 3,
   "metadata": {},
   "outputs": [
    {
     "name": "stdout",
     "output_type": "stream",
     "text": [
      "2020-11-07 11:13:41.283449\n",
      "test function\n",
      "2020-11-07 11:13:41.285433\n"
     ]
    }
   ],
   "source": [
    "##실행시간관련 데코레이터 생성\n",
    "# 코드 선언부\n",
    "def datetime_decorator(func):\n",
    "        def decorated():\n",
    "                print(datetime.datetime.now())\n",
    "                func()\n",
    "                print(datetime.datetime.now())\n",
    "        return decorated\n",
    "\n",
    "@datetime_decorator\n",
    "def main_function():\n",
    "        print (\"test function\")\n",
    "\n",
    "\n",
    "# 코드 실행부  \n",
    "main_function()"
   ]
  }
 ],
 "metadata": {
  "kernelspec": {
   "display_name": "Python 3",
   "language": "python",
   "name": "python3"
  },
  "language_info": {
   "codemirror_mode": {
    "name": "ipython",
    "version": 3
   },
   "file_extension": ".py",
   "mimetype": "text/x-python",
   "name": "python",
   "nbconvert_exporter": "python",
   "pygments_lexer": "ipython3",
   "version": "3.7.6"
  }
 },
 "nbformat": 4,
 "nbformat_minor": 4
}
